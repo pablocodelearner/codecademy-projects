{
 "cells": [
  {
   "cell_type": "markdown",
   "id": "e1e6d192-c1ed-4e7d-acbc-45b2281cad97",
   "metadata": {
    "noteable": {
     "cell_type": "markdown"
    }
   },
   "source": [
    "# Rolling dice on Catan\n",
    "### A brief analysis on probabilities\n",
    "\n",
    "![dices](https://imgs.search.brave.com/3tpium2F_dmGc-5WT9gbu8FAUT-ok32boCHA_UPxzGA/rs:fit:860:0:0/g:ce/aHR0cHM6Ly90NC5m/dGNkbi5uZXQvanBn/LzA2LzE1LzQ0LzMx/LzM2MF9GXzYxNTQ0/MzE2N18ybjFBcHVK/YjJ2a295SWl4RVhS/bVN3NGtpOHczZUxD/ci5qcGc)"
   ]
  },
  {
   "cell_type": "markdown",
   "id": "a6ccb9cf-3579-4325-80e4-0204f0b2ad59",
   "metadata": {
    "noteable": {
     "cell_type": "markdown"
    }
   },
   "source": [
    "## 1. Introduction and context\n",
    "Catan, an engaging board game, challenges players to gather natural resources for constructing roads, villages, and cities, all while earning Victory Points (VP). The first player to accumulate 10 VP secures victory.\n",
    "\n",
    "At the game's outset, numbered circles ranging from 2 to 12 (excluding 7) adorn the resource squares. Players roll two six-sided dice to gain resources corresponding to their settlements or cities.\n",
    "\n",
    "Notably, numbers 6 and 8, distinguished in red, have a higher likelihood of appearing, as indicated in the game manual.\n",
    "\n",
    "However, the number 7 carries a unique role, denoting the thief, who can be positioned on a resource square to obstruct resource collection.\n",
    "\n",
    "As an enthusiast of the game, I sought to use Python to explain and illustrate these probabilities.  \n",
    "\n",
    "![Catan](https://imgs.search.brave.com/GaCtlYVw66PNadAKJavrb2PvUQfzQvVxqQNGzg3YSVw/rs:fit:860:0:0/g:ce/aHR0cHM6Ly9pbWFn/ZXMuc3F1YXJlc3Bh/Y2UtY2RuLmNvbS9j/b250ZW50L3YxLzUz/ZWM3OTBhZTRiMDM5/NmNiZDE0ZDhhMS8x/NTY1NzQzNjIwNDAx/LUdWTUlVR09FRTFO/MEVNUzZTQUpRL2Nh/dGFuLTV0aC1ib2Fy/ZDItcGxheXRvbmlj/LWJvYXJkLWdhbWVz/LmpwZw)"
   ]
  },
  {
   "cell_type": "markdown",
   "id": "2ab78117-a77e-4d26-9575-e0f0296c9f83",
   "metadata": {
    "noteable": {
     "cell_type": "markdown"
    }
   },
   "source": [
    "## 2. Probability theory applied\n",
    "\n",
    "When you roll two six-sided dice, each die can land on any number from 1 to 6. To calculate the probabilities, we'll consider all the possible combinations of the dice.\n",
    "\n",
    "### 2.1. Calculation\n",
    "\n",
    "We can calculate the probabilities using the following steps:\n",
    "\n",
    "1. Determine the total number of possible outcomes when rolling two dice.\n",
    "2. Count the number of ways to achieve each sum from 2 to 12.\n",
    "3. Calculate the probability of each sum.\n",
    "\n",
    "Let's start with step 1.\n",
    "\n",
    "### Step 1: Total Number of Possible Outcomes\n",
    "\n",
    "There are 6 possible outcomes for the first die and 6 possible outcomes for the second die. Therefore:\n",
    "\n",
    "$6 * 6 = 36$\n",
    "\n",
    "Those are the possible outcomes when rolling two dice.\n",
    "\n",
    "### Step 2: Counting the Ways to Achieve Each Sum\n",
    "\n",
    "Now, let's count the number of ways to achieve each sum. It's Python time!\n"
   ]
  },
  {
   "cell_type": "code",
   "execution_count": 1,
   "id": "34c47db8-4667-4190-bac7-dc35b4aca420",
   "metadata": {
    "ExecuteTime": {
     "end_time": "2023-10-31T12:19:52.571037+00:00",
     "start_time": "2023-10-31T12:19:52.246643+00:00"
    },
    "collapsed": false,
    "jupyter": {
     "outputs_hidden": false
    },
    "noteable": {
     "cell_type": "python"
    }
   },
   "outputs": [],
   "source": [
    "import numpy as np\n",
    "import matplotlib.pyplot as plt\n",
    "\n",
    "# Number of sides on each die\n",
    "sides = 6\n",
    "\n",
    "# Create an array to count the ways to achieve each sum\n",
    "sum_counts = np.zeros(2 * sides - 1)\n",
    "\n",
    "# Count the ways to achieve each sum\n",
    "for die1 in range(1, sides + 1):\n",
    "    for die2 in range(1, sides + 1):\n",
    "        total = die1 + die2\n",
    "        sum_counts[total - 2] += 1\n",
    "\n",
    "# Calculate the probabilities\n",
    "probabilities = sum_counts / 36"
   ]
  },
  {
   "cell_type": "markdown",
   "id": "e5f19da3-d5f0-4a2f-b9f6-af65082d9110",
   "metadata": {
    "noteable": {
     "cell_type": "markdown"
    }
   },
   "source": [
    "## 3. Results\n",
    "Let's calculate the counts and probabilities for each sum and visualize them using a bar chart."
   ]
  },
  {
   "cell_type": "code",
   "execution_count": 6,
   "id": "fbbad34a-09bd-4bc7-94e2-7dacdc8e7abe",
   "metadata": {
    "ExecuteTime": {
     "end_time": "2023-10-31T12:27:03.427614+00:00",
     "start_time": "2023-10-31T12:27:02.898533+00:00"
    },
    "noteable": {
     "cell_type": "python"
    }
   },
   "outputs": [
    {
     "name": "stdout",
     "output_type": "stream",
     "text": [
      "Sum 2: 1 ways\n",
      "Sum 3: 2 ways\n",
      "Sum 4: 3 ways\n",
      "Sum 5: 4 ways\n",
      "Sum 6: 5 ways\n",
      "Sum 7: 6 ways\n",
      "Sum 8: 5 ways\n",
      "Sum 9: 4 ways\n",
      "Sum 10: 3 ways\n",
      "Sum 11: 2 ways\n",
      "Sum 12: 1 ways\n",
      "\n",
      "Sum 2: Probability = 2.78%\n",
      "Sum 3: Probability = 5.56%\n",
      "Sum 4: Probability = 8.33%\n",
      "Sum 5: Probability = 11.11%\n",
      "Sum 6: Probability = 13.89%\n",
      "Sum 7: Probability = 16.67%\n",
      "Sum 8: Probability = 13.89%\n",
      "Sum 9: Probability = 11.11%\n",
      "Sum 10: Probability = 8.33%\n",
      "Sum 11: Probability = 5.56%\n",
      "Sum 12: Probability = 2.78%\n",
      "\n"
     ]
    },
    {
     "data": {
      "image/png": "[encoded data removed]",
      "text/plain": [
       "<Figure size 640x480 with 1 Axes>"
      ]
     },
     "metadata": {},
     "output_type": "display_data"
    }
   ],
   "source": [
    "# Display the counts for each sum\n",
    "for i, count in enumerate(sum_counts):\n",
    "    print(f\"Sum {i + 2}: {int(count)} ways\")\n",
    "    \n",
    "print(\"\")\n",
    "\n",
    "# Display the probabilities of each sum\n",
    "for i, probability in enumerate(probabilities):\n",
    "    print(f\"Sum {i + 2}: Probability = {probability:.2%}\")\n",
    "\n",
    "print(\"\")\n",
    "\n",
    "# Visualize the probabilities using a bar chart\n",
    "plt.bar(range(2, 13), probabilities, tick_label=range(2, 13))\n",
    "plt.xlabel(\"Sum of Two Dice\")\n",
    "plt.ylabel(\"Probability\")\n",
    "plt.title(\"Probabilities of Rolling Two Six-Sided Dice\")\n",
    "plt.show()"
   ]
  },
  {
   "cell_type": "markdown",
   "id": "fb390ca6-ca79-4977-8525-3b144d474757",
   "metadata": {
    "noteable": {
     "cell_type": "markdown"
    }
   },
   "source": [
    "## 4. Conclusion\n",
    "As anticipated, the central values on the dice possess a higher likelihood of being rolled. This phenomenon isn't exclusive to Catan; it extends to virtually any board game or scenario that involves the roll of two standard six-sided dice."
   ]
  }
 ],
 "metadata": {
  "kernel_info": {
   "name": "python3"
  },
  "kernelspec": {
   "display_name": "Python 3 (ipykernel)",
   "language": "python",
   "name": "python3"
  },
  "language_info": {
   "codemirror_mode": {
    "name": "ipython",
    "version": 3
   },
   "file_extension": ".py",
   "mimetype": "text/x-python",
   "name": "python",
   "nbconvert_exporter": "python",
   "pygments_lexer": "ipython3",
   "version": "3.11.9"
  },
  "noteable": {
   "last_delta_id": "a1e20ea1-8acd-487c-a3bc-dedb214a3fa7"
  },
  "nteract": {
   "version": "noteable@2.9.0"
  },
  "selected_hardware_size": "small"
 },
 "nbformat": 4,
 "nbformat_minor": 5
}
