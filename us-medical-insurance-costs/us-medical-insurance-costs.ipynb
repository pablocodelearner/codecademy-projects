{
 "cells": [
  {
   "cell_type": "markdown",
   "metadata": {},
   "source": [
    "# <center>U.S. Medical Insurance Costs</center>"
   ]
  },
  {
   "cell_type": "markdown",
   "metadata": {},
   "source": [
    "This is a **Data Science Python** portfolio project. The data set is provided by *codecademy.com* (Codecademy from now on) and it cosists in a csv file called 'insurance.csv' containing data about a group of people of the U.S., and how much they've been charged in medical insurance costs (in dollars). Even though this project belongs to a skill path at Codecademy, it is presented as a great opportunity to craft a showcase of the student skills. In fact, it encorages the student to optionally go beyond what he/she has learnt in the skill path at the given point, and apply alternative concepts and tools that may be useful for the implementation of the analysis (i.e. using Python libraries such as _Numpy_, _Matplotlib_ or _Pandas_)."
   ]
  },
  {
   "cell_type": "markdown",
   "metadata": {},
   "source": [
    "## INDEX"
   ]
  },
  {
   "cell_type": "markdown",
   "metadata": {},
   "source": [
    "* 1. Scope of the project\n",
    "    * 1.1. Objectives\n",
    "    * 1.2. Methodology\n",
    "* 2. Data cleaning and preprocessing\n",
    "    * 2.1. Opening the csv \n",
    "    * 2.2. About the data\n",
    "    * 2.3. Checking for missing data. Counting data items.\n",
    "    * 2.4. Cleaning the data\n",
    "* 3. Analysis\n",
    "    * 3.1. Functions\n",
    "    * 3.2. Storing data into variables for analysis\n",
    "* 4. Outcomes\n",
    "* 5. Conclusions\n",
    "* 6. References"
   ]
  },
  {
   "cell_type": "markdown",
   "metadata": {},
   "source": [
    "## 1. Scope of the project"
   ]
  },
  {
   "cell_type": "markdown",
   "metadata": {},
   "source": [
    "### 1.1. Objectives"
   ]
  },
  {
   "cell_type": "markdown",
   "metadata": {},
   "source": [
    "The goals of this project are:\n",
    "\n",
    "* To find who is the person from the data set that pays the less and the person that pays the most.\n",
    "* To calculate the sample of each group in between categories, both numerically and in percentage. \n",
    "* To find out the total charges of each subcategory inside age, sex, bmi, number of children, smoker status and region.\n",
    "* To calculate the mean and median of the charges of all the subcategories (taking children as example, it would be to calculate the mean and median charges of people with no children, 1 child, 2 children, etc) and to compare the results.\n",
    "* To calculate the interquartile range of charges for each category, to discover how spread these charges are in each category. \n",
    "* To locate skewed data and explain why it skewed."
   ]
  },
  {
   "cell_type": "markdown",
   "metadata": {},
   "source": [
    "### 1.2. Methodology"
   ]
  },
  {
   "cell_type": "markdown",
   "metadata": {},
   "source": [
    "This is a descriptive analysis. These are the steps I will conduct:\n",
    "\n",
    "* First, I will open the csv file and put each category into a list.\n",
    "* After that, I will make a basic explanation from some of the fields in the data set.\n",
    "* Then, I will clean the data provided and make it suitable for analysis. These will involve the following steps:\n",
    "    * To count the elements in every list to ensure the number of items coincide.\n",
    "    * To turn string values that are numbers to int or float as needed.\n",
    "    * When values are necessarily strings, to observe which these are. \n",
    "    * After elements of the original lists are cleaned and moved to a new list, to create a Python dictionary that merges every category with its clean list.\n",
    "* Afterwards, I will define some functions that will serve as tools for the analysis.\n",
    "* Later, I will use mine and built-in functions to create variables that store the analyzed data.\n",
    "* In the end, I will make prints of these variables to visualise the results and make my conclusions."
   ]
  },
  {
   "cell_type": "markdown",
   "metadata": {},
   "source": [
    "## 2. Data cleaning and preprocessing"
   ]
  },
  {
   "cell_type": "markdown",
   "metadata": {},
   "source": [
    "### 2.1. Opening the csv file"
   ]
  },
  {
   "cell_type": "code",
   "execution_count": 1,
   "metadata": {},
   "outputs": [],
   "source": [
    "import csv\n",
    "import numpy as np\n",
    "\n",
    "# Lists to add the data as it is initially provided\n",
    "raw_age = []\n",
    "raw_sex = []\n",
    "raw_bmi = []\n",
    "raw_children = []\n",
    "raw_smoker = []\n",
    "raw_region = []\n",
    "raw_charges = []\n",
    "\n",
    "\"\"\"After the previous data lists are cleaned, new lists will be generated. These will \n",
    "act as values for the keys (column names) of a dictionary which will store all the data\n",
    "for further analysis.\"\"\"\n",
    "\n",
    "# Openning the data set and filling raw_data lists\n",
    "with open(\"insurance.csv\", newline='') as insurance_csv:\n",
    "    data_reader = csv.DictReader(insurance_csv)\n",
    "    for row in data_reader:\n",
    "        raw_age.append(row['age'])\n",
    "        raw_sex.append(row['sex'])\n",
    "        raw_bmi.append(row['bmi'])\n",
    "        raw_children.append(row['children'])\n",
    "        raw_smoker.append(row['smoker'])\n",
    "        raw_region.append(row['region'])\n",
    "        raw_charges.append(row['charges'])"
   ]
  },
  {
   "cell_type": "markdown",
   "metadata": {},
   "source": [
    "### 2.2. About the data"
   ]
  },
  {
   "cell_type": "markdown",
   "metadata": {},
   "source": [
    "This data set displays several rows (later on we will know how many) and a total of seven columns. This is data about a group of people, with some information about them and the medical insurance costs they've been charged. The column names are:\n",
    "\n",
    "* age\n",
    "* sex\n",
    "* bmi _(which stands for Body Mass Index)_\n",
    "* children\n",
    "* smoker\n",
    "* region\n",
    "* charges\n",
    "\n",
    "There are some of these categories where we may assume what to expect. For example, the 'smokers' category. In the U.S., smokers get charged more by insurance companies. This is called 'tobacco rating', and it's different depending on the State you live$^1$.  \n",
    "\n",
    "BMI is another one. To be overweight does not have to be offensive, and no one should be insulted or alienated because of it. But on a health context, it is well proved that obesity and overweight can lead to several diseases, including type 2 diabetes, cardiovascular disease, liver disease, obstructive sleep apnea and cancer, among others$^2$.\n",
    "\n",
    "For adults, there are four categories that indicate what weight state you are depending the range your BMI falls in:\n",
    "\n",
    "* Below 18.5 – you're in the underweight range.\n",
    "* Between 18.5 and 24.9 – you're in the healthy weight range.\n",
    "* Between 25 and 29.9 – you're in the overweight range.\n",
    "* 30 or over – you're in the obese range.\n",
    "\n",
    "In addition to height and weight, BMI should be calculated considering other aspects that can be crucial to determine its accurate value, such as the age, sex, muscle density and ethnic group. \"For example, adults of South Asian origin may have a higher risk of some health problems, such as diabetes, with a BMI of 23, which is usually considered healthy.\"$^3$\n",
    "\n",
    "* __About how medical insurance costs are calculated__\n",
    "\n",
    "According to Jean Folger, the insurance companies take account of the following factors to calculate insurance premiums: the age, the type of coverage, the amount of coverage, personal information and actuarial tables. The later are used to \"assess the risk of financial loss, using mathematics and statistics to predict the likelihood of an insurance claim\"$^4$.\n"
   ]
  },
  {
   "cell_type": "markdown",
   "metadata": {},
   "source": [
    "### 2.3. Checking for missing data. Counting data items"
   ]
  },
  {
   "cell_type": "code",
   "execution_count": 2,
   "metadata": {},
   "outputs": [
    {
     "name": "stdout",
     "output_type": "stream",
     "text": [
      "1338\n",
      "1338\n",
      "1338\n",
      "1338\n",
      "1338\n",
      "1338\n",
      "1338\n"
     ]
    }
   ],
   "source": [
    "# I print the lenght of each raw_data list to ensure they store the same number of items\n",
    "\n",
    "print(len(raw_age))\n",
    "print(len(raw_sex))\n",
    "print(len(raw_bmi))\n",
    "print(len(raw_children))\n",
    "print(len(raw_smoker))\n",
    "print(len(raw_region))\n",
    "print(len(raw_charges))\n",
    "\n",
    "# The result for every list is 1338 items. They all match."
   ]
  },
  {
   "cell_type": "markdown",
   "metadata": {},
   "source": [
    "### 2.4. Cleaning the data"
   ]
  },
  {
   "cell_type": "code",
   "execution_count": 3,
   "metadata": {},
   "outputs": [],
   "source": [
    "population_lenght = 1338\n",
    "\n",
    "# Age\n",
    "\n",
    "clean_age = [int(c) for c in raw_age]\n",
    "unique_values_age = list(set(clean_age))\n",
    "\n",
    "# Sex\n",
    "\n",
    "clean_sex = raw_sex\n",
    "unique_values_sex = list(set(clean_sex))\n",
    "\n",
    "# BMI\n",
    "\n",
    "clean_bmi = [round(float(c), 1) for c in raw_bmi]\n",
    "unique_values_bmi = list(set(clean_bmi))\n",
    "\n",
    "# Children\n",
    "\n",
    "clean_children = [int(c) for c in raw_children]\n",
    "unique_values_children = list(set(clean_children))\n",
    "\n",
    "# Smoker\n",
    "\n",
    "clean_smoker = raw_smoker\n",
    "unique_values_smoker = list(set(raw_smoker))\n",
    "\n",
    "# Region\n",
    "\n",
    "clean_region = raw_region\n",
    "unique_values_region = list(set(raw_region))\n",
    "\n",
    "# Charges\n",
    "\n",
    "clean_charges = [round(float(c), 2) for c in raw_charges]\n",
    "\n",
    "# Data dictionary\n",
    "\n",
    "data_dict = {}\n",
    "\n",
    "data_dict['age'] = clean_age\n",
    "data_dict['sex'] = clean_sex\n",
    "data_dict['bmi'] = clean_bmi\n",
    "data_dict['children'] = clean_children\n",
    "data_dict['smoker'] = clean_smoker\n",
    "data_dict['region'] = clean_region\n",
    "data_dict['charges'] = clean_charges"
   ]
  },
  {
   "cell_type": "code",
   "execution_count": 4,
   "metadata": {},
   "outputs": [
    {
     "name": "stdout",
     "output_type": "stream",
     "text": [
      "{'age': [19, 18, 28, 33, 32, 31, 46, 37, 37, 60, 25, 62, 23, 56, 27, 19, 52, 23, 56, 30, 60, 30, 18, 34, 37, 59, 63, 55, 23, 31, 22, 18, 19, 63, 28, 19, 62, 26, 35, 60, 24, 31, 41, 37, 38, 55, 18, 28, 60, 36, 18, 21, 48, 36, 40, 58, 58, 18, 53, 34, 43, 25, 64, 28, 20, 19, 61, 40, 40, 28, 27, 31, 53, 58, 44, 57, 29, 21, 22, 41, 31, 45, 22, 48, 37, 45, 57, 56, 46, 55, 21, 53, 59, 35, 64, 28, 54, 55, 56, 38, 41, 30, 18, 61, 34, 20, 19, 26, 29, 63, 54, 55, 37, 21, 52, 60, 58, 29, 49, 37, 44, 18, 20, 44, 47, 26, 19, 52, 32, 38, 59, 61, 53, 19, 20, 22, 19, 22, 54, 22, 34, 26, 34, 29, 30, 29, 46, 51, 53, 19, 35, 48, 32, 42, 40, 44, 48, 18, 30, 50, 42, 18, 54, 32, 37, 47, 20, 32, 19, 27, 63, 49, 18, 35, 24, 63, 38, 54, 46, 41, 58, 18, 22, 44, 44, 36, 26, 30, 41, 29, 61, 36, 25, 56, 18, 19, 39, 45, 51, 64, 19, 48, 60, 27, 46, 28, 59, 35, 63, 40, 20, 40, 24, 34, 45, 41, 53, 27, 26, 24, 34, 53, 32, 19, 42, 55, 28, 58, 41, 47, 42, 59, 19, 59, 39, 40, 18, 31, 19, 44, 23, 33, 55, 40, 63, 54, 60, 24, 19, 29, 18, 63, 54, 27, 50, 55, 56, 38, 51, 19, 58, 20, 52, 19, 53, 46, 40, 59, 45, 49, 18, 50, 41, 50, 25, 47, 19, 22, 59, 51, 40, 54, 30, 55, 52, 46, 46, 63, 59, 52, 28, 29, 25, 22, 25, 18, 19, 47, 31, 48, 36, 53, 56, 28, 57, 29, 28, 30, 58, 41, 50, 19, 43, 49, 27, 52, 50, 54, 44, 32, 34, 26, 34, 57, 29, 40, 27, 45, 64, 52, 61, 52, 61, 56, 43, 64, 60, 62, 50, 46, 24, 62, 60, 63, 49, 34, 33, 46, 36, 19, 57, 50, 30, 33, 18, 46, 46, 47, 23, 18, 48, 35, 19, 21, 21, 49, 56, 42, 44, 18, 61, 57, 42, 26, 20, 23, 39, 24, 64, 62, 27, 55, 55, 35, 44, 19, 58, 50, 26, 24, 48, 19, 48, 49, 46, 46, 43, 21, 64, 18, 51, 47, 64, 49, 31, 52, 33, 47, 38, 32, 19, 44, 26, 25, 19, 43, 52, 36, 64, 63, 64, 61, 40, 25, 48, 45, 38, 18, 21, 27, 19, 29, 42, 60, 31, 60, 22, 35, 52, 26, 31, 33, 18, 59, 56, 45, 60, 56, 40, 35, 39, 30, 24, 20, 32, 59, 55, 57, 56, 40, 49, 42, 62, 56, 19, 30, 60, 56, 28, 18, 27, 18, 19, 47, 54, 61, 24, 25, 21, 23, 63, 49, 18, 51, 48, 31, 54, 19, 44, 53, 19, 61, 18, 61, 21, 20, 31, 45, 44, 62, 29, 43, 51, 19, 38, 37, 22, 21, 24, 57, 56, 27, 51, 19, 39, 58, 20, 45, 35, 31, 50, 32, 51, 38, 42, 18, 19, 51, 46, 18, 57, 62, 59, 37, 64, 38, 33, 46, 46, 53, 34, 20, 63, 54, 54, 49, 28, 54, 25, 43, 63, 32, 62, 52, 25, 28, 46, 34, 35, 19, 46, 54, 27, 50, 18, 19, 38, 41, 49, 48, 31, 18, 30, 62, 57, 58, 22, 31, 52, 25, 59, 19, 39, 32, 19, 33, 21, 34, 61, 38, 58, 47, 20, 21, 41, 46, 42, 34, 43, 52, 18, 51, 56, 64, 19, 51, 27, 59, 28, 30, 47, 38, 18, 34, 20, 47, 56, 49, 19, 55, 30, 37, 49, 18, 59, 29, 36, 33, 58, 44, 53, 24, 29, 40, 51, 64, 19, 35, 39, 56, 33, 42, 61, 23, 43, 48, 39, 40, 18, 58, 49, 53, 48, 45, 59, 52, 26, 27, 48, 57, 37, 57, 32, 18, 64, 43, 49, 40, 62, 40, 30, 29, 36, 41, 44, 45, 55, 60, 56, 49, 21, 19, 39, 53, 33, 53, 42, 40, 47, 27, 21, 47, 20, 24, 27, 26, 53, 41, 56, 23, 21, 50, 53, 34, 47, 33, 51, 49, 31, 36, 18, 50, 43, 20, 24, 60, 49, 60, 51, 58, 51, 53, 62, 19, 50, 30, 41, 29, 18, 41, 35, 53, 24, 48, 59, 49, 37, 26, 23, 29, 45, 27, 53, 31, 50, 50, 34, 19, 47, 28, 37, 21, 64, 58, 24, 31, 39, 47, 30, 18, 22, 23, 33, 27, 45, 57, 47, 42, 64, 38, 61, 53, 44, 19, 41, 51, 40, 45, 35, 53, 30, 18, 51, 50, 31, 35, 60, 21, 29, 62, 39, 19, 22, 53, 39, 27, 30, 30, 58, 33, 42, 64, 21, 18, 23, 45, 40, 19, 18, 25, 46, 33, 54, 28, 36, 20, 24, 23, 47, 33, 45, 26, 18, 44, 60, 64, 56, 36, 41, 39, 63, 36, 28, 58, 36, 42, 36, 56, 35, 59, 21, 59, 23, 57, 53, 60, 51, 23, 27, 55, 37, 61, 46, 53, 49, 20, 48, 25, 25, 57, 37, 38, 55, 36, 51, 40, 18, 57, 61, 25, 50, 26, 42, 43, 44, 23, 49, 33, 41, 37, 22, 23, 21, 51, 25, 32, 57, 36, 22, 57, 64, 36, 54, 47, 62, 61, 43, 19, 18, 19, 49, 60, 26, 49, 60, 26, 27, 44, 63, 32, 22, 18, 59, 44, 33, 24, 43, 45, 61, 35, 62, 62, 38, 34, 43, 50, 19, 57, 62, 41, 26, 39, 46, 45, 32, 59, 44, 39, 18, 53, 18, 50, 18, 19, 62, 56, 42, 37, 42, 25, 57, 51, 30, 44, 34, 31, 54, 24, 43, 48, 19, 29, 63, 46, 52, 35, 51, 44, 21, 39, 50, 34, 22, 19, 26, 29, 48, 26, 45, 36, 54, 34, 31, 27, 20, 44, 43, 45, 34, 24, 26, 38, 50, 38, 27, 39, 39, 63, 33, 36, 30, 24, 24, 48, 47, 29, 28, 47, 25, 51, 48, 43, 61, 48, 38, 59, 19, 26, 54, 21, 51, 22, 47, 18, 47, 21, 19, 23, 54, 37, 46, 55, 30, 18, 61, 54, 22, 45, 22, 19, 35, 18, 20, 28, 55, 43, 43, 22, 25, 49, 44, 64, 49, 47, 27, 55, 48, 45, 24, 32, 24, 57, 59, 36, 29, 42, 48, 39, 63, 54, 37, 63, 21, 54, 60, 32, 47, 21, 28, 63, 18, 32, 38, 32, 62, 39, 55, 57, 52, 56, 47, 55, 23, 22, 50, 18, 51, 22, 52, 25, 33, 53, 29, 58, 37, 54, 49, 50, 26, 45, 54, 38, 48, 28, 23, 55, 41, 25, 33, 30, 23, 46, 53, 27, 23, 63, 55, 35, 34, 19, 39, 27, 57, 52, 28, 50, 44, 26, 33, 19, 50, 41, 52, 39, 50, 52, 60, 20, 55, 42, 18, 58, 43, 35, 48, 36, 19, 23, 20, 32, 43, 34, 30, 18, 41, 35, 57, 29, 32, 37, 18, 43, 56, 38, 29, 22, 52, 40, 23, 31, 42, 24, 25, 48, 23, 45, 20, 62, 43, 23, 31, 41, 58, 48, 31, 19, 19, 41, 40, 31, 37, 46, 22, 51, 18, 35, 59, 36, 37, 59, 36, 39, 18, 52, 27, 18, 40, 29, 46, 38, 30, 40, 50, 20, 41, 33, 38, 42, 56, 58, 52, 20, 54, 58, 45, 26, 63, 58, 37, 25, 52, 64, 22, 28, 18, 28, 45, 33, 18, 32, 24, 19, 20, 40, 34, 42, 51, 54, 55, 52, 32, 28, 41, 43, 49, 64, 55, 24, 20, 45, 26, 25, 43, 35, 26, 57, 22, 32, 39, 25, 48, 47, 18, 18, 61, 47, 28, 36, 20, 44, 38, 19, 21, 46, 58, 20, 18, 28, 33, 19, 45, 62, 25, 43, 42, 24, 29, 32, 25, 41, 42, 33, 34, 19, 30, 18, 19, 18, 35, 39, 31, 62, 62, 42, 31, 61, 42, 51, 23, 52, 57, 23, 52, 50, 18, 18, 21, 61], 'sex': ['female', 'male', 'male', 'male', 'male', 'female', 'female', 'female', 'male', 'female', 'male', 'female', 'male', 'female', 'male', 'male', 'female', 'male', 'male', 'male', 'female', 'female', 'male', 'female', 'male', 'female', 'female', 'female', 'male', 'male', 'male', 'female', 'female', 'male', 'male', 'male', 'female', 'male', 'male', 'male', 'female', 'female', 'male', 'female', 'male', 'male', 'female', 'female', 'female', 'male', 'female', 'female', 'male', 'male', 'female', 'male', 'female', 'male', 'female', 'female', 'male', 'male', 'male', 'female', 'female', 'female', 'female', 'male', 'female', 'male', 'female', 'male', 'female', 'male', 'male', 'male', 'female', 'male', 'female', 'female', 'male', 'female', 'male', 'female', 'female', 'male', 'female', 'female', 'female', 'female', 'female', 'female', 'male', 'male', 'female', 'female', 'female', 'male', 'male', 'male', 'female', 'male', 'female', 'female', 'female', 'male', 'female', 'male', 'male', 'male', 'male', 'female', 'male', 'female', 'male', 'male', 'male', 'female', 'female', 'female', 'male', 'male', 'female', 'male', 'female', 'female', 'female', 'female', 'female', 'male', 'female', 'female', 'female', 'male', 'female', 'female', 'male', 'male', 'female', 'female', 'male', 'male', 'male', 'male', 'male', 'female', 'male', 'female', 'female', 'male', 'male', 'male', 'female', 'female', 'female', 'male', 'male', 'male', 'male', 'female', 'female', 'female', 'male', 'female', 'male', 'male', 'female', 'female', 'female', 'male', 'male', 'male', 'male', 'female', 'female', 'female', 'male', 'male', 'female', 'female', 'male', 'female', 'male', 'female', 'male', 'male', 'female', 'female', 'female', 'female', 'male', 'female', 'male', 'female', 'male', 'male', 'female', 'female', 'female', 'female', 'female', 'female', 'female', 'female', 'male', 'female', 'male', 'male', 'female', 'male', 'male', 'male', 'male', 'female', 'female', 'female', 'female', 'male', 'female', 'female', 'female', 'female', 'male', 'male', 'male', 'male', 'male', 'female', 'female', 'male', 'female', 'female', 'female', 'male', 'male', 'female', 'female', 'male', 'male', 'male', 'female', 'female', 'female', 'male', 'female', 'male', 'female', 'male', 'male', 'male', 'male', 'female', 'male', 'male', 'male', 'female', 'male', 'female', 'male', 'male', 'female', 'female', 'male', 'male', 'female', 'male', 'male', 'female', 'male', 'male', 'male', 'male', 'male', 'male', 'male', 'female', 'male', 'female', 'male', 'female', 'female', 'male', 'male', 'female', 'female', 'male', 'female', 'female', 'female', 'male', 'female', 'male', 'male', 'female', 'male', 'male', 'male', 'male', 'male', 'female', 'male', 'female', 'female', 'female', 'female', 'male', 'female', 'female', 'male', 'female', 'male', 'female', 'male', 'male', 'female', 'male', 'male', 'male', 'female', 'male', 'male', 'female', 'male', 'male', 'male', 'male', 'female', 'male', 'female', 'male', 'female', 'male', 'female', 'female', 'female', 'male', 'male', 'male', 'male', 'female', 'female', 'male', 'female', 'male', 'female', 'female', 'male', 'male', 'female', 'male', 'female', 'female', 'female', 'male', 'female', 'male', 'male', 'male', 'male', 'female', 'female', 'male', 'female', 'female', 'female', 'female', 'female', 'female', 'male', 'male', 'female', 'female', 'female', 'male', 'male', 'female', 'female', 'male', 'female', 'male', 'female', 'male', 'male', 'female', 'male', 'male', 'female', 'male', 'female', 'female', 'male', 'female', 'male', 'male', 'female', 'male', 'female', 'male', 'male', 'female', 'female', 'male', 'female', 'male', 'male', 'female', 'female', 'female', 'male', 'male', 'male', 'female', 'female', 'male', 'female', 'female', 'male', 'female', 'male', 'female', 'male', 'male', 'male', 'male', 'male', 'male', 'female', 'female', 'female', 'female', 'male', 'female', 'male', 'female', 'male', 'male', 'male', 'male', 'female', 'male', 'female', 'female', 'male', 'female', 'male', 'female', 'male', 'female', 'female', 'male', 'male', 'male', 'male', 'male', 'male', 'male', 'female', 'female', 'male', 'female', 'female', 'male', 'female', 'male', 'male', 'female', 'female', 'female', 'female', 'female', 'male', 'female', 'female', 'female', 'male', 'male', 'male', 'male', 'male', 'male', 'male', 'male', 'female', 'female', 'male', 'female', 'female', 'male', 'female', 'male', 'female', 'female', 'female', 'male', 'male', 'male', 'female', 'male', 'female', 'female', 'male', 'male', 'male', 'male', 'female', 'male', 'male', 'male', 'female', 'female', 'male', 'male', 'male', 'male', 'male', 'male', 'male', 'male', 'female', 'male', 'female', 'female', 'female', 'female', 'male', 'female', 'female', 'female', 'male', 'male', 'male', 'female', 'male', 'male', 'male', 'male', 'female', 'female', 'female', 'male', 'female', 'female', 'female', 'female', 'male', 'male', 'male', 'female', 'female', 'female', 'male', 'female', 'male', 'female', 'female', 'male', 'male', 'male', 'female', 'male', 'female', 'female', 'male', 'male', 'female', 'female', 'female', 'male', 'female', 'male', 'female', 'female', 'female', 'female', 'female', 'female', 'male', 'female', 'male', 'female', 'male', 'male', 'male', 'female', 'male', 'female', 'male', 'female', 'female', 'female', 'female', 'male', 'male', 'female', 'male', 'female', 'female', 'female', 'male', 'female', 'female', 'male', 'female', 'female', 'female', 'female', 'female', 'female', 'male', 'male', 'female', 'female', 'female', 'female', 'female', 'female', 'female', 'male', 'female', 'female', 'male', 'male', 'female', 'male', 'male', 'female', 'male', 'male', 'male', 'female', 'male', 'male', 'female', 'male', 'male', 'male', 'female', 'female', 'male', 'male', 'male', 'male', 'male', 'female', 'male', 'male', 'male', 'female', 'male', 'female', 'female', 'female', 'female', 'female', 'female', 'female', 'female', 'male', 'female', 'female', 'male', 'female', 'female', 'male', 'female', 'male', 'male', 'female', 'male', 'female', 'male', 'female', 'male', 'female', 'female', 'male', 'female', 'male', 'male', 'female', 'female', 'male', 'male', 'male', 'female', 'male', 'male', 'male', 'female', 'male', 'male', 'male', 'male', 'male', 'female', 'female', 'female', 'male', 'male', 'female', 'female', 'female', 'male', 'female', 'female', 'female', 'female', 'male', 'female', 'female', 'male', 'female', 'female', 'male', 'female', 'male', 'female', 'male', 'female', 'female', 'female', 'male', 'male', 'male', 'female', 'female', 'male', 'female', 'female', 'female', 'male', 'male', 'female', 'female', 'female', 'female', 'female', 'male', 'male', 'male', 'male', 'male', 'male', 'female', 'male', 'female', 'male', 'male', 'female', 'male', 'female', 'male', 'male', 'female', 'male', 'male', 'female', 'female', 'male', 'male', 'female', 'male', 'male', 'male', 'female', 'female', 'male', 'female', 'female', 'female', 'male', 'female', 'female', 'female', 'male', 'male', 'male', 'male', 'male', 'male', 'male', 'male', 'male', 'female', 'female', 'female', 'male', 'male', 'male', 'female', 'female', 'male', 'female', 'male', 'female', 'male', 'male', 'female', 'female', 'male', 'female', 'female', 'male', 'female', 'male', 'female', 'female', 'female', 'male', 'male', 'female', 'female', 'male', 'male', 'male', 'female', 'female', 'male', 'female', 'female', 'male', 'male', 'female', 'female', 'male', 'female', 'male', 'male', 'male', 'male', 'male', 'female', 'female', 'male', 'male', 'male', 'male', 'female', 'female', 'female', 'male', 'male', 'female', 'female', 'male', 'female', 'female', 'male', 'female', 'male', 'female', 'male', 'female', 'female', 'female', 'female', 'female', 'male', 'female', 'male', 'female', 'female', 'female', 'female', 'male', 'male', 'male', 'male', 'male', 'female', 'male', 'female', 'male', 'male', 'male', 'female', 'female', 'male', 'male', 'female', 'male', 'male', 'female', 'female', 'male', 'male', 'male', 'female', 'male', 'male', 'female', 'female', 'male', 'male', 'male', 'female', 'female', 'male', 'female', 'female', 'male', 'male', 'male', 'male', 'female', 'female', 'male', 'female', 'male', 'female', 'male', 'male', 'female', 'female', 'male', 'female', 'female', 'male', 'female', 'female', 'female', 'female', 'male', 'male', 'male', 'male', 'female', 'female', 'female', 'male', 'male', 'female', 'male', 'female', 'male', 'female', 'male', 'female', 'male', 'male', 'male', 'female', 'female', 'male', 'male', 'female', 'male', 'male', 'male', 'male', 'male', 'male', 'female', 'male', 'male', 'male', 'male', 'male', 'male', 'male', 'female', 'female', 'female', 'male', 'male', 'male', 'male', 'male', 'male', 'female', 'female', 'female', 'female', 'female', 'male', 'male', 'male', 'male', 'female', 'female', 'male', 'male', 'male', 'female', 'male', 'female', 'male', 'female', 'male', 'female', 'female', 'female', 'female', 'male', 'female', 'female', 'female', 'female', 'female', 'female', 'male', 'male', 'male', 'male', 'male', 'male', 'male', 'male', 'male', 'male', 'female', 'male', 'female', 'male', 'female', 'male', 'female', 'female', 'female', 'female', 'male', 'female', 'male', 'male', 'female', 'female', 'male', 'male', 'male', 'female', 'female', 'female', 'female', 'male', 'male', 'female', 'male', 'female', 'male', 'male', 'female', 'male', 'male', 'female', 'male', 'female', 'female', 'male', 'female', 'male', 'female', 'male', 'male', 'male', 'female', 'male', 'female', 'female', 'female', 'male', 'male', 'male', 'male', 'male', 'female', 'female', 'male', 'male', 'male', 'female', 'male', 'male', 'male', 'female', 'female', 'female', 'female', 'male', 'male', 'male', 'male', 'male', 'male', 'male', 'female', 'female', 'male', 'male', 'male', 'male', 'male', 'female', 'male', 'female', 'female', 'female', 'female', 'male', 'female', 'female', 'female', 'male', 'male', 'male', 'male', 'female', 'female', 'female', 'male', 'male', 'female', 'male', 'female', 'female', 'male', 'male', 'male', 'male', 'male', 'female', 'female', 'male', 'female', 'female', 'female', 'female', 'male', 'female', 'male', 'female', 'female', 'male', 'male', 'female', 'male', 'female', 'female', 'female', 'male', 'female', 'male', 'female', 'female', 'male', 'male', 'male', 'male', 'female', 'male', 'male', 'female', 'female', 'female', 'female', 'female', 'female', 'male', 'female', 'female', 'female', 'female', 'male', 'male', 'female', 'female', 'female', 'male', 'female', 'male', 'female', 'male', 'female', 'female', 'male', 'male', 'female', 'female', 'female', 'female', 'male', 'female', 'female', 'female', 'female', 'female', 'male', 'male', 'female', 'female', 'female', 'female', 'female', 'female', 'female', 'female', 'female', 'female', 'male', 'male', 'female', 'male', 'male', 'male', 'male', 'female', 'male', 'female', 'male', 'female', 'male', 'male', 'male', 'male', 'female', 'female', 'male', 'male', 'male', 'female', 'female', 'female', 'male', 'male', 'female', 'male', 'female', 'male', 'male', 'male', 'male', 'male', 'female', 'female', 'male', 'female', 'male', 'female', 'female', 'male', 'female', 'male', 'male', 'female', 'female', 'male', 'male', 'female', 'male', 'female', 'male', 'male', 'male', 'male', 'female', 'female', 'female', 'female', 'female', 'male', 'female', 'female', 'male', 'female', 'female', 'female', 'male', 'female', 'male', 'female', 'male', 'male', 'female', 'male', 'male', 'male', 'male', 'female', 'female', 'male', 'female', 'female', 'female', 'female', 'male', 'male', 'female', 'female', 'female', 'male', 'male', 'female', 'male', 'male', 'male', 'male', 'male', 'male', 'female', 'male', 'female', 'male', 'male', 'female', 'male', 'male', 'female', 'female', 'male', 'female', 'male', 'male', 'female', 'male', 'female', 'female', 'male', 'female', 'male', 'male', 'female', 'male', 'male', 'male', 'female', 'male', 'male', 'female', 'male', 'female', 'male', 'female', 'female', 'female', 'male', 'female', 'female', 'female', 'female'], 'bmi': [27.9, 33.8, 33.0, 22.7, 28.9, 25.7, 33.4, 27.7, 29.8, 25.8, 26.2, 26.3, 34.4, 39.8, 42.1, 24.6, 30.8, 23.8, 40.3, 35.3, 36.0, 32.4, 34.1, 31.9, 28.0, 27.7, 23.1, 32.8, 17.4, 36.3, 35.6, 26.3, 28.6, 28.3, 36.4, 20.4, 33.0, 20.8, 36.7, 39.9, 26.6, 36.6, 21.8, 30.8, 37.0, 37.3, 38.7, 34.8, 24.5, 35.2, 35.6, 33.6, 28.0, 34.4, 28.7, 37.0, 31.8, 31.7, 22.9, 37.3, 27.4, 33.7, 24.7, 25.9, 22.4, 28.9, 39.1, 26.3, 36.2, 24.0, 24.8, 28.5, 28.1, 32.0, 27.4, 34.0, 29.6, 35.5, 39.8, 33.0, 26.9, 38.3, 37.6, 41.2, 34.8, 22.9, 31.2, 27.2, 27.7, 27.0, 39.5, 24.8, 29.8, 34.8, 31.3, 37.6, 30.8, 38.3, 19.9, 19.3, 31.6, 25.5, 30.1, 29.9, 27.5, 28.0, 28.4, 30.9, 27.9, 35.1, 33.6, 29.7, 30.8, 35.7, 32.2, 28.6, 49.1, 27.9, 27.2, 23.4, 37.1, 23.8, 29.0, 31.4, 33.9, 28.8, 28.3, 37.4, 17.8, 34.7, 26.5, 22.0, 35.9, 25.6, 28.8, 28.1, 34.1, 25.2, 31.9, 36.0, 22.4, 32.5, 25.3, 29.7, 28.7, 38.8, 30.5, 37.7, 37.4, 28.4, 24.1, 29.7, 37.1, 23.4, 25.5, 39.5, 24.4, 25.2, 35.5, 27.8, 26.6, 36.9, 39.6, 29.8, 29.6, 28.2, 37.0, 33.2, 31.8, 18.9, 41.5, 30.3, 16.0, 34.8, 33.3, 37.7, 27.8, 29.2, 28.9, 33.2, 28.6, 38.3, 19.9, 26.4, 30.7, 41.9, 29.9, 30.9, 32.2, 32.1, 31.6, 26.2, 25.7, 26.6, 34.4, 30.6, 32.8, 28.6, 18.1, 39.3, 32.1, 32.2, 24.0, 36.1, 22.3, 28.9, 26.4, 27.7, 31.8, 41.2, 33.0, 30.9, 28.5, 26.7, 30.9, 37.1, 26.6, 23.1, 29.9, 23.2, 33.7, 33.2, 30.8, 34.8, 24.6, 33.9, 38.1, 41.9, 31.6, 25.5, 36.2, 27.8, 17.8, 27.5, 24.5, 22.2, 26.7, 38.4, 29.1, 38.1, 36.7, 22.1, 26.8, 35.3, 27.7, 30.0, 38.1, 35.9, 20.9, 29.0, 17.3, 32.2, 34.2, 30.3, 31.8, 25.4, 33.6, 40.1, 24.4, 31.9, 25.2, 26.8, 24.3, 37.0, 38.1, 42.4, 19.8, 32.4, 30.2, 25.8, 29.4, 34.2, 37.0, 27.5, 27.6, 26.6, 20.6, 24.3, 31.8, 21.6, 28.1, 40.6, 27.6, 32.4, 31.2, 26.6, 48.1, 26.2, 36.8, 26.4, 33.4, 29.6, 45.5, 28.8, 26.8, 23.0, 27.7, 25.4, 34.4, 28.9, 27.6, 22.6, 37.5, 33.0, 38.0, 33.3, 27.5, 33.3, 34.9, 33.1, 26.6, 24.7, 36.0, 35.9, 31.4, 33.2, 32.2, 32.8, 27.6, 37.3, 25.3, 29.6, 30.8, 40.9, 27.2, 34.1, 23.2, 36.5, 33.8, 36.7, 36.4, 27.4, 31.2, 28.8, 35.7, 34.5, 25.7, 27.6, 32.3, 27.7, 27.6, 30.0, 27.6, 36.8, 41.5, 29.3, 35.8, 33.3, 29.9, 27.8, 23.2, 25.6, 27.7, 35.2, 38.3, 27.6, 43.9, 29.8, 41.9, 20.8, 32.3, 30.5, 21.7, 26.4, 21.9, 30.8, 32.3, 25.0, 32.0, 30.4, 21.1, 22.2, 33.2, 32.9, 33.3, 28.3, 24.9, 40.1, 30.1, 31.5, 18.0, 30.7, 33.0, 43.3, 22.1, 34.4, 39.0, 25.4, 22.6, 30.2, 35.6, 37.4, 31.4, 31.4, 32.3, 19.9, 34.4, 31.0, 25.6, 38.2, 20.6, 47.5, 33.0, 32.3, 20.4, 38.4, 24.3, 23.6, 21.1, 30.0, 17.5, 20.2, 17.2, 23.9, 35.1, 35.6, 34.1, 22.6, 39.2, 27.0, 33.9, 35.9, 32.8, 30.6, 30.2, 24.3, 27.3, 29.2, 16.8, 30.4, 33.1, 20.2, 26.9, 30.5, 28.6, 33.1, 31.7, 28.9, 46.8, 29.4, 32.7, 33.5, 43.0, 36.5, 26.7, 33.1, 29.6, 25.6, 29.6, 38.6, 29.6, 24.1, 23.4, 29.7, 46.5, 37.4, 30.1, 30.5, 39.6, 33.0, 36.6, 30.0, 38.1, 25.9, 25.2, 28.4, 28.7, 33.8, 24.3, 24.1, 32.7, 30.1, 29.8, 33.3, 25.1, 28.3, 28.5, 35.6, 36.9, 32.6, 41.3, 37.5, 31.4, 39.5, 34.3, 31.1, 21.5, 28.7, 38.1, 31.2, 32.9, 25.1, 25.1, 43.4, 25.7, 27.9, 23.6, 28.7, 24.0, 39.2, 34.4, 26.0, 23.2, 30.2, 28.9, 30.9, 31.4, 23.8, 25.3, 28.7, 32.1, 33.7, 22.4, 30.4, 28.3, 35.7, 35.3, 30.5, 31.0, 30.9, 27.4, 44.2, 33.9, 37.7, 26.1, 33.9, 30.6, 25.8, 39.4, 25.5, 42.1, 31.7, 29.7, 36.2, 40.5, 28.0, 38.9, 30.2, 28.1, 31.4, 38.0, 31.8, 36.3, 47.4, 30.2, 25.8, 35.4, 46.7, 28.6, 46.2, 30.8, 28.9, 21.4, 31.7, 41.3, 23.8, 33.4, 34.2, 34.1, 35.5, 19.9, 32.7, 30.5, 44.8, 32.1, 30.5, 40.6, 30.6, 31.9, 40.6, 29.1, 37.3, 43.1, 36.9, 34.3, 27.2, 26.8, 38.1, 30.2, 23.5, 25.5, 30.6, 45.4, 23.6, 20.7, 28.3, 20.2, 30.2, 35.9, 30.7, 29.0, 19.6, 31.1, 21.9, 40.3, 33.7, 29.5, 33.2, 32.6, 37.5, 39.2, 31.6, 25.3, 39.0, 28.3, 34.1, 25.2, 23.7, 27.0, 37.8, 29.4, 34.8, 33.2, 19.0, 33.0, 36.6, 28.6, 25.6, 33.1, 37.1, 31.4, 34.1, 21.3, 33.5, 28.8, 26.0, 28.9, 42.5, 38.0, 39.0, 36.1, 29.3, 35.5, 22.7, 39.7, 38.2, 24.5, 38.1, 26.4, 33.7, 42.4, 28.3, 33.9, 35.0, 35.3, 30.8, 26.2, 23.4, 28.5, 33.0, 42.7, 39.6, 31.1, 36.3, 35.2, 25.3, 42.4, 33.2, 35.9, 28.8, 46.5, 24.0, 31.5, 33.7, 23.0, 38.1, 28.7, 32.8, 32.0, 29.8, 31.6, 31.2, 29.7, 31.0, 43.9, 21.4, 40.8, 31.4, 36.1, 23.2, 17.4, 20.3, 35.3, 24.3, 18.5, 26.4, 26.1, 41.7, 24.1, 31.1, 27.4, 36.2, 32.4, 23.7, 34.8, 40.2, 32.3, 35.8, 33.7, 39.3, 34.9, 44.7, 41.5, 26.4, 29.5, 32.9, 38.1, 28.7, 30.5, 27.7, 35.2, 23.5, 30.7, 40.5, 22.6, 28.9, 22.6, 24.3, 36.7, 33.4, 40.7, 36.6, 37.4, 35.4, 27.1, 39.0, 28.4, 21.8, 40.3, 36.1, 24.4, 21.4, 30.1, 27.3, 32.1, 34.8, 38.4, 23.7, 31.7, 35.5, 24.0, 29.1, 34.1, 26.6, 26.4, 30.1, 27.0, 21.8, 36.0, 30.9, 26.4, 29.0, 37.9, 22.8, 33.6, 27.6, 22.8, 27.8, 37.4, 38.2, 34.6, 35.2, 27.1, 26.0, 25.2, 31.8, 32.3, 29.0, 39.7, 19.5, 36.1, 26.7, 36.5, 28.9, 34.2, 33.3, 32.3, 39.8, 34.3, 28.9, 24.4, 41.1, 36.0, 27.6, 29.3, 27.7, 37.0, 36.9, 22.5, 29.9, 41.8, 27.6, 23.2, 20.9, 31.9, 28.5, 44.2, 22.9, 33.1, 24.8, 26.2, 36.0, 22.3, 42.2, 26.5, 35.8, 41.4, 36.6, 30.1, 25.8, 30.8, 42.9, 21.0, 22.5, 34.4, 31.5, 24.2, 37.1, 26.1, 35.5, 33.7, 17.7, 31.1, 29.8, 24.3, 31.8, 31.8, 28.0, 30.8, 21.9, 33.1, 25.8, 23.8, 34.4, 33.8, 36.0, 31.5, 28.3, 23.5, 31.4, 31.1, 24.7, 32.8, 29.8, 30.5, 32.5, 34.2, 50.4, 24.1, 32.8, 30.8, 32.3, 35.5, 23.8, 23.8, 29.6, 33.1, 24.1, 32.2, 28.1, 47.6, 28.0, 33.5, 19.9, 25.4, 29.9, 37.3, 43.7, 23.7, 24.3, 36.2, 29.5, 24.9, 30.1, 21.9, 28.1, 27.1, 33.4, 28.8, 29.5, 34.8, 27.4, 22.1, 37.0, 26.7, 28.9, 29.0, 30.0, 39.5, 33.6, 26.9, 29.0, 24.0, 38.9, 32.1, 44.0, 20.0, 25.6, 40.3, 22.5, 22.5, 40.9, 27.3, 36.9, 35.1, 29.4, 32.6, 32.3, 39.8, 24.6, 28.3, 31.7, 26.7, 27.5, 24.6, 34.0, 26.9, 22.9, 28.2, 34.2, 25.0, 33.2, 31.0, 35.8, 23.2, 32.1, 23.4, 20.1, 39.2, 34.2, 46.5, 32.5, 25.8, 35.3, 37.2, 27.5, 29.7, 24.2, 26.2, 29.5, 23.2, 46.1, 40.2, 22.6, 39.9, 35.8, 35.8, 34.2, 31.3, 29.7, 18.3, 42.9, 28.4, 30.2, 27.8, 39.5, 30.8, 26.8, 35.0, 36.7, 39.6, 25.9, 35.2, 24.8, 36.8, 27.1, 24.8, 25.4, 25.7, 34.3, 28.2, 23.6, 20.2, 40.5, 35.4, 22.9, 40.1, 29.1, 40.0, 29.9, 25.5, 21.4, 25.9, 30.6, 30.1, 25.8, 30.1, 27.6, 34.7, 20.5, 19.8, 27.8, 31.6, 28.3, 20.0, 23.3, 34.1, 36.9, 36.3, 26.9, 23.0, 32.7, 25.8, 29.6, 19.2, 31.7, 29.3, 28.2, 25.0, 27.7, 22.8, 20.1, 33.3, 32.3, 27.6, 25.5, 24.6, 34.2, 35.8, 32.7, 37.0, 31.0, 36.1, 23.3, 45.3, 34.6, 26.0, 18.7, 31.6, 17.3, 23.7, 35.2, 27.9, 21.6, 38.4, 23.0, 37.1, 30.5, 28.9, 27.3, 28.0, 23.1, 30.7, 25.8, 35.2, 24.7, 25.1, 52.6, 22.5, 30.9, 37.0, 26.4, 29.8, 29.8, 21.5, 27.6, 28.9, 31.8, 39.5, 33.8, 32.0, 27.9, 41.1, 28.6, 25.6, 25.3, 37.3, 42.7, 21.7, 31.9, 37.1, 31.4, 31.3, 28.9, 18.3, 29.6, 32.0, 26.0, 31.7, 33.7, 21.8, 27.8, 19.9, 31.5, 30.5, 18.3, 29.0, 31.5, 47.7, 22.1, 36.2, 29.8, 32.7, 30.4, 33.7, 31.4, 35.0, 33.8, 30.9, 34.0, 19.1, 28.6, 38.9, 36.1, 29.8, 31.2, 29.9, 26.2, 30.0, 20.4, 32.3, 38.4, 25.9, 26.3, 24.5, 32.7, 29.6, 33.3, 35.8, 19.9, 31.4, 38.2, 36.9, 32.4, 42.8, 25.1, 29.9, 35.9, 32.8, 18.6, 23.9, 45.9, 40.3, 18.3, 33.8, 28.1, 25.0, 22.2, 30.2, 32.5, 37.1, 32.6, 24.9, 32.3, 32.3, 32.8, 32.8, 31.9, 21.5, 34.1, 30.3, 36.5, 32.6, 35.8, 27.9, 22.1, 44.9, 23.2, 30.6, 41.1, 34.6, 42.1, 38.8, 28.2, 28.3, 26.1, 40.4, 24.6, 35.2, 34.1, 27.4, 26.7, 41.9, 29.3, 32.1, 27.1, 24.1, 27.4, 34.9, 29.8, 41.3, 29.9, 30.3, 27.4, 28.5, 23.6, 35.6, 32.7, 25.3, 28.0, 32.8, 21.8, 32.4, 36.6, 21.8, 27.9, 30.0, 33.5, 29.4, 25.8, 24.3, 40.4, 32.1, 32.3, 27.3, 17.9, 34.8, 33.4, 25.6, 37.1, 30.9, 34.1, 21.5, 33.3, 31.3, 39.1, 25.1, 37.3, 34.6, 30.2, 21.9, 25.0, 25.3, 24.4, 23.9, 39.8, 16.8, 37.2, 34.4, 30.3, 34.5, 21.8, 24.6, 23.3, 27.8, 31.1, 21.7, 28.2, 22.7, 42.1, 41.8, 37.0, 21.3, 33.1, 33.3, 24.3, 25.7, 29.4, 39.8, 33.6, 29.8, 19.8, 27.3, 29.3, 27.7, 37.9, 36.4, 27.6, 37.7, 23.2, 20.5, 37.1, 28.1, 29.9, 33.3, 23.8, 30.5, 31.1, 33.3, 27.5, 33.9, 34.5, 25.5, 27.6, 27.1, 23.7, 30.4, 29.7, 29.9, 26.8, 33.3, 27.6, 21.7, 30.0, 36.3, 24.3, 17.3, 25.9, 39.4, 34.3, 19.9, 34.9, 23.2, 25.7, 25.2, 22.0, 26.1, 26.5, 27.5, 25.7, 30.4, 30.9, 20.8, 27.8, 24.6, 27.7, 21.9, 28.1, 30.2, 32.2, 26.3, 26.7, 42.9, 34.7, 23.7, 28.3, 20.6, 53.1, 39.7, 26.3, 31.1, 26.7, 38.8, 40.4, 25.9, 33.5, 32.9, 30.0, 24.2, 38.6, 25.7, 33.4, 44.7, 31.0, 31.9, 36.9, 25.8, 29.1], 'children': [0, 1, 3, 0, 0, 0, 1, 3, 2, 0, 0, 0, 0, 0, 0, 1, 1, 0, 0, 0, 0, 1, 0, 1, 2, 3, 0, 2, 1, 2, 0, 0, 5, 0, 1, 0, 3, 0, 1, 0, 0, 2, 1, 2, 1, 0, 2, 0, 0, 1, 0, 2, 1, 0, 3, 2, 2, 2, 1, 2, 3, 4, 1, 1, 0, 0, 2, 1, 0, 3, 0, 5, 3, 1, 2, 0, 1, 0, 0, 0, 1, 0, 1, 4, 2, 2, 0, 0, 0, 0, 0, 1, 3, 2, 2, 1, 3, 0, 0, 0, 0, 0, 0, 3, 1, 1, 1, 2, 0, 0, 1, 2, 0, 0, 3, 0, 0, 1, 0, 2, 2, 0, 0, 1, 3, 0, 0, 0, 2, 2, 0, 0, 2, 0, 0, 0, 0, 0, 3, 0, 2, 1, 2, 2, 3, 3, 3, 1, 1, 1, 1, 0, 3, 0, 1, 0, 0, 0, 0, 3, 0, 0, 1, 2, 0, 4, 5, 3, 1, 3, 0, 0, 0, 1, 0, 0, 2, 1, 2, 3, 0, 0, 3, 0, 2, 3, 2, 3, 1, 2, 0, 0, 0, 1, 0, 0, 0, 2, 0, 0, 0, 1, 0, 0, 0, 1, 0, 2, 0, 1, 1, 4, 2, 1, 2, 2, 0, 0, 1, 0, 1, 0, 3, 0, 0, 3, 0, 0, 1, 2, 1, 3, 0, 1, 2, 2, 0, 2, 0, 1, 2, 1, 1, 3, 0, 0, 0, 0, 1, 1, 2, 2, 2, 3, 0, 3, 0, 0, 4, 0, 0, 1, 3, 0, 3, 3, 1, 3, 1, 1, 1, 2, 2, 1, 0, 2, 2, 0, 2, 1, 1, 3, 1, 1, 0, 1, 2, 0, 1, 3, 0, 1, 2, 0, 3, 0, 0, 1, 3, 1, 3, 3, 2, 2, 2, 2, 2, 1, 0, 2, 0, 0, 3, 0, 0, 0, 0, 0, 0, 1, 1, 4, 0, 0, 0, 1, 1, 2, 1, 0, 1, 0, 0, 0, 2, 0, 0, 1, 1, 1, 0, 0, 0, 0, 4, 3, 2, 1, 1, 0, 0, 0, 0, 0, 0, 0, 3, 3, 0, 0, 2, 1, 0, 1, 2, 1, 3, 2, 2, 3, 0, 0, 1, 2, 0, 0, 3, 0, 3, 1, 2, 0, 0, 2, 2, 0, 0, 2, 0, 3, 4, 0, 1, 1, 2, 0, 3, 0, 2, 0, 0, 1, 0, 3, 0, 2, 0, 1, 3, 1, 0, 1, 2, 5, 0, 1, 0, 2, 1, 0, 0, 0, 1, 0, 2, 5, 1, 0, 1, 3, 0, 2, 0, 0, 1, 3, 0, 3, 5, 0, 1, 0, 0, 1, 1, 0, 0, 0, 0, 1, 4, 1, 0, 0, 2, 0, 2, 0, 0, 3, 3, 0, 2, 0, 0, 1, 1, 2, 1, 1, 0, 0, 0, 0, 3, 1, 0, 0, 0, 0, 3, 2, 0, 1, 3, 0, 3, 0, 0, 1, 0, 0, 0, 0, 4, 0, 2, 2, 2, 0, 0, 0, 1, 0, 1, 3, 1, 2, 0, 0, 1, 0, 0, 0, 1, 0, 1, 2, 1, 0, 0, 0, 0, 0, 1, 0, 2, 1, 1, 0, 1, 0, 2, 0, 0, 1, 3, 2, 1, 0, 3, 2, 0, 0, 0, 2, 0, 2, 0, 0, 0, 0, 0, 2, 0, 2, 1, 0, 3, 0, 2, 0, 0, 1, 2, 0, 1, 2, 5, 2, 0, 1, 2, 1, 2, 0, 0, 1, 1, 0, 1, 0, 2, 1, 0, 1, 3, 1, 0, 1, 0, 1, 2, 1, 0, 1, 2, 1, 2, 2, 0, 0, 0, 3, 0, 0, 0, 0, 2, 2, 1, 2, 0, 3, 0, 1, 0, 2, 0, 0, 1, 4, 1, 0, 0, 0, 3, 1, 0, 0, 1, 0, 0, 2, 1, 0, 1, 2, 0, 4, 5, 3, 0, 3, 2, 3, 1, 3, 0, 0, 2, 1, 0, 2, 0, 2, 1, 2, 1, 4, 3, 1, 1, 0, 0, 2, 1, 2, 0, 1, 3, 0, 0, 0, 2, 0, 3, 3, 3, 2, 1, 0, 2, 0, 1, 2, 2, 0, 1, 1, 0, 1, 1, 0, 1, 0, 2, 1, 0, 2, 0, 0, 0, 1, 1, 2, 0, 3, 3, 0, 1, 2, 2, 0, 0, 0, 1, 1, 2, 0, 0, 3, 0, 0, 1, 3, 1, 1, 0, 1, 3, 1, 3, 1, 3, 1, 0, 2, 3, 2, 2, 0, 0, 0, 0, 1, 2, 0, 1, 0, 0, 0, 0, 0, 4, 2, 3, 0, 3, 0, 2, 1, 1, 0, 2, 0, 1, 1, 0, 2, 3, 2, 0, 0, 2, 3, 2, 0, 3, 0, 3, 0, 1, 1, 1, 3, 0, 0, 3, 0, 0, 0, 0, 0, 2, 0, 2, 1, 0, 0, 1, 0, 1, 0, 0, 0, 1, 0, 0, 1, 3, 3, 2, 2, 2, 0, 0, 3, 1, 0, 1, 0, 0, 2, 0, 2, 2, 1, 3, 1, 0, 0, 2, 0, 1, 2, 0, 0, 2, 0, 0, 0, 2, 0, 0, 0, 1, 1, 0, 0, 0, 2, 0, 2, 3, 0, 0, 0, 1, 0, 2, 3, 2, 0, 0, 2, 0, 1, 0, 3, 0, 1, 0, 1, 3, 0, 1, 5, 1, 2, 3, 1, 0, 3, 4, 1, 0, 0, 0, 1, 0, 4, 0, 2, 0, 0, 2, 1, 0, 0, 0, 0, 3, 0, 0, 2, 3, 1, 3, 0, 1, 0, 3, 1, 2, 0, 0, 0, 0, 1, 0, 0, 1, 0, 0, 2, 2, 1, 0, 1, 1, 1, 5, 0, 2, 0, 2, 5, 2, 0, 0, 1, 0, 0, 0, 1, 2, 1, 0, 3, 0, 2, 1, 2, 1, 1, 1, 1, 1, 1, 1, 0, 1, 3, 2, 1, 2, 1, 2, 5, 3, 0, 0, 0, 0, 0, 0, 1, 3, 0, 1, 0, 3, 1, 5, 1, 3, 1, 0, 0, 1, 2, 2, 1, 3, 3, 3, 0, 3, 0, 2, 0, 0, 0, 1, 2, 2, 3, 2, 1, 0, 2, 4, 1, 0, 0, 1, 2, 3, 2, 0, 3, 1, 1, 1, 0, 1, 0, 0, 2, 1, 0, 0, 0, 0, 3, 2, 1, 0, 2, 0, 0, 0, 0, 1, 2, 0, 1, 1, 0, 1, 0, 1, 3, 0, 0, 0, 0, 0, 1, 0, 1, 1, 3, 4, 1, 2, 0, 1, 1, 1, 0, 0, 2, 0, 1, 1, 0, 0, 3, 2, 1, 1, 1, 2, 5, 0, 0, 1, 0, 0, 0, 3, 0, 4, 4, 2, 0, 0, 1, 2, 3, 1, 0, 0, 0, 0, 2, 1, 3, 1, 3, 3, 3, 0, 1, 5, 2, 1, 3, 0, 2, 3, 1, 1, 0, 0, 2, 1, 0, 5, 2, 0, 0, 0, 3, 1, 0, 0, 0, 1, 3, 0, 2, 2, 3, 0, 0, 1, 0, 0, 0, 3, 1, 4, 3, 0, 2, 0, 0, 1, 2, 1, 0, 1, 0, 0, 2, 2, 1, 1, 2, 0, 2, 2, 0, 1, 1, 0, 0, 1, 0, 0, 1, 1, 2, 3, 0, 1, 0, 2, 1, 1, 0, 0, 3, 0, 0, 1, 2, 2, 2, 0, 1, 3, 1, 2, 2, 1, 1, 1, 2, 0, 2, 1, 0, 0, 2, 1, 3, 1, 2, 0, 0, 1, 1, 2, 2, 0, 0, 3, 0, 3, 0, 2, 0, 0, 0, 3, 1, 2, 2, 3, 0, 0, 5, 3, 4, 0, 1, 0, 0, 0, 4, 0, 0, 3, 1, 3, 0, 0, 1, 1, 1, 2, 0, 0, 0, 0, 3, 1, 0, 5, 1, 0, 0, 0, 0, 1, 2, 0, 2, 0, 1, 1, 0, 0, 1, 2, 1, 2, 0, 0, 3, 0, 1, 0, 2, 2, 1, 0, 3, 1, 0, 2, 0, 0, 4, 0, 2, 1, 0, 1, 2, 3, 1, 0, 0, 4, 2, 3, 0, 0, 2, 1, 0, 0, 1, 2, 2, 2, 0, 3, 3, 0, 0, 0, 0], 'smoker': ['yes', 'no', 'no', 'no', 'no', 'no', 'no', 'no', 'no', 'no', 'no', 'yes', 'no', 'no', 'yes', 'no', 'no', 'no', 'no', 'yes', 'no', 'no', 'no', 'yes', 'no', 'no', 'no', 'no', 'no', 'yes', 'yes', 'no', 'no', 'no', 'yes', 'no', 'no', 'no', 'yes', 'yes', 'no', 'no', 'no', 'no', 'no', 'no', 'no', 'no', 'no', 'yes', 'no', 'no', 'yes', 'yes', 'no', 'yes', 'no', 'yes', 'yes', 'no', 'no', 'no', 'no', 'no', 'yes', 'no', 'no', 'no', 'no', 'yes', 'yes', 'no', 'no', 'no', 'no', 'no', 'no', 'no', 'no', 'no', 'no', 'no', 'yes', 'no', 'yes', 'yes', 'yes', 'no', 'no', 'no', 'no', 'no', 'yes', 'no', 'yes', 'no', 'no', 'no', 'yes', 'yes', 'no', 'no', 'no', 'yes', 'no', 'yes', 'no', 'no', 'no', 'yes', 'no', 'no', 'no', 'no', 'no', 'no', 'no', 'yes', 'no', 'no', 'no', 'no', 'no', 'yes', 'no', 'no', 'yes', 'no', 'yes', 'no', 'no', 'no', 'no', 'no', 'no', 'no', 'no', 'no', 'no', 'no', 'no', 'no', 'yes', 'no', 'yes', 'no', 'yes', 'no', 'no', 'no', 'no', 'no', 'no', 'yes', 'no', 'no', 'yes', 'yes', 'yes', 'no', 'yes', 'yes', 'no', 'no', 'no', 'no', 'no', 'no', 'no', 'no', 'no', 'no', 'no', 'no', 'no', 'yes', 'no', 'no', 'no', 'no', 'no', 'no', 'no', 'no', 'no', 'yes', 'no', 'no', 'no', 'no', 'no', 'no', 'no', 'no', 'no', 'no', 'no', 'no', 'no', 'no', 'no', 'no', 'no', 'yes', 'no', 'no', 'no', 'yes', 'no', 'no', 'no', 'no', 'no', 'no', 'no', 'no', 'no', 'no', 'no', 'no', 'no', 'no', 'no', 'yes', 'yes', 'no', 'no', 'no', 'no', 'no', 'no', 'no', 'no', 'no', 'no', 'yes', 'no', 'no', 'yes', 'no', 'yes', 'no', 'no', 'no', 'yes', 'no', 'no', 'no', 'no', 'no', 'yes', 'yes', 'yes', 'no', 'yes', 'no', 'yes', 'no', 'no', 'yes', 'no', 'yes', 'yes', 'yes', 'no', 'yes', 'yes', 'no', 'no', 'no', 'no', 'yes', 'no', 'no', 'no', 'no', 'no', 'no', 'no', 'no', 'yes', 'yes', 'no', 'no', 'no', 'no', 'no', 'no', 'yes', 'no', 'no', 'no', 'yes', 'no', 'no', 'no', 'yes', 'yes', 'yes', 'no', 'no', 'yes', 'no', 'no', 'no', 'no', 'no', 'no', 'no', 'no', 'no', 'no', 'yes', 'no', 'yes', 'no', 'no', 'no', 'no', 'no', 'no', 'no', 'yes', 'no', 'no', 'no', 'no', 'yes', 'yes', 'no', 'yes', 'yes', 'no', 'no', 'no', 'no', 'no', 'no', 'yes', 'no', 'no', 'no', 'no', 'no', 'no', 'no', 'no', 'no', 'no', 'no', 'no', 'no', 'no', 'no', 'no', 'no', 'no', 'no', 'no', 'no', 'no', 'no', 'yes', 'no', 'no', 'no', 'no', 'no', 'no', 'no', 'no', 'no', 'no', 'yes', 'no', 'yes', 'yes', 'yes', 'no', 'no', 'yes', 'yes', 'no', 'no', 'no', 'no', 'no', 'no', 'no', 'no', 'no', 'no', 'no', 'no', 'no', 'no', 'no', 'no', 'no', 'no', 'no', 'no', 'no', 'no', 'no', 'no', 'no', 'no', 'no', 'no', 'no', 'yes', 'yes', 'no', 'no', 'no', 'no', 'yes', 'no', 'yes', 'yes', 'yes', 'yes', 'no', 'no', 'no', 'no', 'no', 'no', 'no', 'no', 'no', 'no', 'no', 'no', 'no', 'no', 'no', 'no', 'no', 'no', 'yes', 'no', 'no', 'yes', 'no', 'no', 'no', 'no', 'no', 'no', 'no', 'no', 'no', 'no', 'no', 'no', 'no', 'no', 'no', 'no', 'yes', 'no', 'no', 'no', 'yes', 'no', 'no', 'no', 'no', 'no', 'no', 'no', 'no', 'yes', 'yes', 'yes', 'no', 'no', 'no', 'no', 'no', 'no', 'no', 'no', 'no', 'no', 'no', 'yes', 'no', 'no', 'no', 'no', 'no', 'yes', 'no', 'no', 'no', 'no', 'no', 'yes', 'no', 'yes', 'yes', 'no', 'no', 'no', 'no', 'no', 'no', 'no', 'no', 'no', 'no', 'yes', 'no', 'no', 'no', 'no', 'no', 'no', 'no', 'no', 'no', 'yes', 'no', 'no', 'no', 'no', 'no', 'yes', 'no', 'no', 'no', 'no', 'no', 'no', 'no', 'no', 'no', 'no', 'no', 'no', 'yes', 'no', 'yes', 'no', 'no', 'no', 'yes', 'no', 'no', 'no', 'no', 'no', 'no', 'no', 'no', 'yes', 'no', 'no', 'no', 'no', 'no', 'no', 'no', 'no', 'no', 'no', 'yes', 'no', 'no', 'no', 'no', 'no', 'no', 'no', 'yes', 'no', 'no', 'no', 'no', 'no', 'no', 'no', 'no', 'no', 'yes', 'no', 'no', 'no', 'no', 'no', 'yes', 'no', 'no', 'no', 'no', 'no', 'no', 'no', 'no', 'no', 'no', 'yes', 'no', 'no', 'yes', 'no', 'yes', 'no', 'no', 'no', 'no', 'no', 'yes', 'no', 'yes', 'yes', 'no', 'no', 'yes', 'no', 'yes', 'no', 'no', 'no', 'no', 'no', 'yes', 'no', 'no', 'no', 'no', 'no', 'no', 'no', 'no', 'yes', 'no', 'no', 'yes', 'no', 'no', 'no', 'no', 'no', 'no', 'no', 'no', 'no', 'no', 'no', 'no', 'no', 'yes', 'no', 'no', 'no', 'no', 'no', 'no', 'no', 'no', 'yes', 'yes', 'no', 'yes', 'yes', 'no', 'no', 'no', 'no', 'no', 'yes', 'no', 'no', 'yes', 'no', 'no', 'no', 'no', 'yes', 'no', 'no', 'no', 'no', 'no', 'no', 'yes', 'no', 'no', 'no', 'no', 'no', 'no', 'no', 'yes', 'no', 'no', 'no', 'no', 'no', 'no', 'no', 'no', 'yes', 'no', 'no', 'no', 'no', 'no', 'no', 'no', 'no', 'no', 'no', 'no', 'no', 'no', 'no', 'no', 'no', 'no', 'no', 'yes', 'no', 'yes', 'no', 'no', 'yes', 'no', 'no', 'no', 'no', 'no', 'yes', 'no', 'yes', 'yes', 'no', 'yes', 'yes', 'no', 'no', 'no', 'no', 'no', 'no', 'no', 'yes', 'no', 'no', 'no', 'no', 'no', 'no', 'yes', 'no', 'yes', 'no', 'no', 'yes', 'no', 'no', 'no', 'no', 'no', 'no', 'no', 'no', 'no', 'no', 'yes', 'no', 'no', 'no', 'no', 'no', 'no', 'yes', 'no', 'no', 'yes', 'no', 'no', 'no', 'no', 'no', 'no', 'no', 'no', 'no', 'yes', 'no', 'yes', 'no', 'no', 'no', 'yes', 'no', 'no', 'no', 'yes', 'no', 'no', 'no', 'no', 'no', 'no', 'no', 'no', 'no', 'no', 'no', 'no', 'no', 'no', 'yes', 'yes', 'no', 'no', 'no', 'no', 'no', 'no', 'yes', 'yes', 'yes', 'no', 'no', 'no', 'no', 'no', 'no', 'no', 'no', 'no', 'no', 'no', 'no', 'no', 'yes', 'yes', 'no', 'yes', 'no', 'no', 'no', 'no', 'yes', 'no', 'yes', 'no', 'yes', 'no', 'yes', 'yes', 'no', 'no', 'yes', 'no', 'no', 'no', 'no', 'no', 'no', 'no', 'no', 'no', 'no', 'no', 'no', 'no', 'no', 'no', 'no', 'no', 'no', 'no', 'no', 'no', 'no', 'yes', 'no', 'yes', 'yes', 'no', 'no', 'no', 'yes', 'no', 'no', 'yes', 'no', 'no', 'yes', 'no', 'no', 'no', 'no', 'yes', 'no', 'no', 'no', 'no', 'no', 'no', 'no', 'yes', 'no', 'yes', 'no', 'no', 'no', 'no', 'yes', 'yes', 'no', 'no', 'no', 'no', 'no', 'no', 'no', 'no', 'no', 'no', 'no', 'no', 'no', 'no', 'no', 'no', 'no', 'no', 'no', 'no', 'no', 'no', 'no', 'no', 'no', 'no', 'no', 'no', 'no', 'yes', 'no', 'yes', 'no', 'yes', 'no', 'yes', 'yes', 'no', 'yes', 'no', 'yes', 'no', 'no', 'no', 'no', 'no', 'no', 'no', 'yes', 'no', 'no', 'no', 'no', 'no', 'no', 'no', 'no', 'yes', 'no', 'no', 'no', 'no', 'no', 'no', 'yes', 'no', 'no', 'no', 'no', 'no', 'no', 'yes', 'no', 'no', 'no', 'no', 'yes', 'no', 'no', 'no', 'no', 'no', 'yes', 'yes', 'no', 'no', 'no', 'no', 'no', 'yes', 'no', 'no', 'no', 'yes', 'no', 'no', 'no', 'no', 'no', 'no', 'no', 'no', 'no', 'yes', 'yes', 'no', 'no', 'no', 'yes', 'no', 'no', 'no', 'yes', 'yes', 'no', 'yes', 'no', 'no', 'yes', 'yes', 'no', 'no', 'yes', 'no', 'yes', 'no', 'no', 'yes', 'no', 'yes', 'no', 'yes', 'no', 'no', 'no', 'yes', 'no', 'no', 'no', 'no', 'no', 'no', 'no', 'no', 'yes', 'no', 'no', 'no', 'no', 'no', 'no', 'no', 'yes', 'no', 'no', 'no', 'no', 'no', 'no', 'no', 'yes', 'no', 'no', 'no', 'no', 'no', 'no', 'yes', 'no', 'no', 'no', 'no', 'yes', 'no', 'no', 'yes', 'no', 'no', 'yes', 'no', 'no', 'no', 'yes', 'no', 'no', 'no', 'no', 'no', 'no', 'no', 'no', 'no', 'no', 'yes', 'yes', 'no', 'no', 'no', 'no', 'yes', 'yes', 'no', 'yes', 'no', 'yes', 'no', 'yes', 'no', 'no', 'no', 'no', 'no', 'no', 'no', 'no', 'no', 'no', 'no', 'no', 'no', 'no', 'yes', 'no', 'no', 'no', 'no', 'no', 'no', 'yes', 'no', 'no', 'no', 'no', 'no', 'yes', 'no', 'no', 'no', 'yes', 'no', 'no', 'no', 'no', 'no', 'no', 'no', 'no', 'no', 'no', 'no', 'no', 'no', 'yes', 'yes', 'no', 'no', 'no', 'no', 'yes', 'no', 'no', 'yes', 'no', 'no', 'no', 'no', 'yes', 'no', 'yes', 'no', 'yes', 'no', 'no', 'no', 'no', 'no', 'no', 'no', 'yes', 'no', 'no', 'no', 'no', 'no', 'no', 'no', 'yes', 'no', 'no', 'yes', 'yes', 'no', 'no', 'no', 'no', 'no', 'no', 'no', 'no', 'no', 'yes', 'no', 'no', 'no', 'no', 'yes', 'no', 'no', 'no', 'no', 'no', 'no', 'yes', 'yes', 'no', 'no', 'no', 'no', 'no', 'no', 'no', 'no', 'yes', 'yes', 'no', 'no', 'no', 'no', 'no', 'no', 'no', 'yes', 'yes', 'no', 'yes', 'no', 'no', 'no', 'no', 'no', 'no', 'no', 'no', 'no', 'no', 'no', 'no', 'yes', 'no', 'yes', 'no', 'no', 'no', 'no', 'no', 'no', 'yes', 'no', 'no', 'no', 'yes', 'no', 'no', 'yes', 'yes', 'no', 'yes', 'no', 'no', 'no', 'yes', 'no', 'no', 'yes', 'no', 'no', 'no', 'no', 'no', 'no', 'no', 'no', 'yes', 'yes', 'no', 'yes', 'yes', 'no', 'yes', 'yes', 'yes', 'no', 'no', 'no', 'no', 'yes', 'yes', 'no', 'no', 'no', 'no', 'no', 'no', 'yes', 'no', 'yes', 'no', 'no', 'no', 'no', 'no', 'no', 'no', 'no', 'no', 'no', 'no', 'no', 'no', 'yes'], 'region': ['southwest', 'southeast', 'southeast', 'northwest', 'northwest', 'southeast', 'southeast', 'northwest', 'northeast', 'northwest', 'northeast', 'southeast', 'southwest', 'southeast', 'southeast', 'southwest', 'northeast', 'northeast', 'southwest', 'southwest', 'northeast', 'southwest', 'southeast', 'northeast', 'northwest', 'southeast', 'northeast', 'northwest', 'northwest', 'southwest', 'southwest', 'northeast', 'southwest', 'northwest', 'southwest', 'northwest', 'northwest', 'southwest', 'northeast', 'southwest', 'northeast', 'southeast', 'southeast', 'southeast', 'northeast', 'southwest', 'northeast', 'northwest', 'southeast', 'southeast', 'northeast', 'northwest', 'southwest', 'southeast', 'northwest', 'northwest', 'northeast', 'southeast', 'southeast', 'northwest', 'northeast', 'southeast', 'northwest', 'northwest', 'northwest', 'southwest', 'southwest', 'northwest', 'southeast', 'southeast', 'southeast', 'northeast', 'southwest', 'southeast', 'southwest', 'northwest', 'southeast', 'southeast', 'northeast', 'northwest', 'northeast', 'northeast', 'southeast', 'northwest', 'southwest', 'northwest', 'northwest', 'southwest', 'northwest', 'northwest', 'southeast', 'northwest', 'northeast', 'northwest', 'southwest', 'southeast', 'southwest', 'southeast', 'northeast', 'southwest', 'southwest', 'northeast', 'northeast', 'southeast', 'southwest', 'northwest', 'southwest', 'northwest', 'southeast', 'southeast', 'northwest', 'southwest', 'southwest', 'northwest', 'northeast', 'northeast', 'southeast', 'southeast', 'southeast', 'northwest', 'southwest', 'northeast', 'northwest', 'northeast', 'northwest', 'northeast', 'southwest', 'southwest', 'northwest', 'southwest', 'northeast', 'northeast', 'southwest', 'northwest', 'northeast', 'southeast', 'southwest', 'northwest', 'southeast', 'southwest', 'northeast', 'northeast', 'southeast', 'northwest', 'northwest', 'southeast', 'northwest', 'southeast', 'northwest', 'southwest', 'northwest', 'southeast', 'northeast', 'northeast', 'northeast', 'northwest', 'southeast', 'northeast', 'southeast', 'southeast', 'northwest', 'southeast', 'southwest', 'southwest', 'northwest', 'northeast', 'southwest', 'northwest', 'northwest', 'northeast', 'southeast', 'southwest', 'northeast', 'southwest', 'northwest', 'southwest', 'northwest', 'southwest', 'southwest', 'northeast', 'northwest', 'southeast', 'northeast', 'northwest', 'southeast', 'northeast', 'southeast', 'southwest', 'southwest', 'northwest', 'southeast', 'southwest', 'southeast', 'northwest', 'southeast', 'northwest', 'southwest', 'southeast', 'northwest', 'northeast', 'northwest', 'southeast', 'northwest', 'southeast', 'southwest', 'northeast', 'southeast', 'northeast', 'southwest', 'northeast', 'southwest', 'northwest', 'northwest', 'southeast', 'southwest', 'southwest', 'northwest', 'southeast', 'southeast', 'southeast', 'southwest', 'northeast', 'southwest', 'southwest', 'southeast', 'southeast', 'southeast', 'southeast', 'northeast', 'northeast', 'northwest', 'southeast', 'southwest', 'southwest', 'northwest', 'southeast', 'southeast', 'southeast', 'northwest', 'southeast', 'northeast', 'northeast', 'southwest', 'southwest', 'northeast', 'northwest', 'southeast', 'southeast', 'southwest', 'northeast', 'northeast', 'southwest', 'southeast', 'southwest', 'northeast', 'northeast', 'northwest', 'southeast', 'northwest', 'northwest', 'southwest', 'southeast', 'northeast', 'northwest', 'southeast', 'southeast', 'southeast', 'northeast', 'southwest', 'northeast', 'southeast', 'southwest', 'northwest', 'northeast', 'northwest', 'northeast', 'northwest', 'southwest', 'southeast', 'southeast', 'northeast', 'northeast', 'northeast', 'northeast', 'southwest', 'southeast', 'northeast', 'northwest', 'northeast', 'southeast', 'southwest', 'northeast', 'southeast', 'southeast', 'southwest', 'northeast', 'southwest', 'southeast', 'northwest', 'northwest', 'northeast', 'northeast', 'southeast', 'southeast', 'southwest', 'northwest', 'southwest', 'southeast', 'northeast', 'northwest', 'southwest', 'southwest', 'southeast', 'southeast', 'southwest', 'northeast', 'northwest', 'northeast', 'northwest', 'northeast', 'northwest', 'northeast', 'southwest', 'northeast', 'southwest', 'northeast', 'southeast', 'northwest', 'southwest', 'southwest', 'northeast', 'northwest', 'northwest', 'northeast', 'northeast', 'southwest', 'southeast', 'northwest', 'northeast', 'southeast', 'southwest', 'northwest', 'northeast', 'northeast', 'southeast', 'southeast', 'southeast', 'northeast', 'southeast', 'northwest', 'northwest', 'southwest', 'southwest', 'northeast', 'southeast', 'southwest', 'southeast', 'northwest', 'southeast', 'southeast', 'northeast', 'southwest', 'southwest', 'southwest', 'southeast', 'northeast', 'northeast', 'northwest', 'northwest', 'northeast', 'northwest', 'northeast', 'northeast', 'southwest', 'southeast', 'northwest', 'northeast', 'southeast', 'northwest', 'southeast', 'northeast', 'northeast', 'southeast', 'southeast', 'northeast', 'southwest', 'southeast', 'northwest', 'northwest', 'northwest', 'northeast', 'northwest', 'northeast', 'northeast', 'northeast', 'northwest', 'southwest', 'southeast', 'southwest', 'southeast', 'southwest', 'southeast', 'northwest', 'northwest', 'southwest', 'northeast', 'southeast', 'southwest', 'southeast', 'southeast', 'northwest', 'northeast', 'northeast', 'southwest', 'northwest', 'southeast', 'southeast', 'southwest', 'southeast', 'northwest', 'southeast', 'southeast', 'northeast', 'northeast', 'southwest', 'southeast', 'northeast', 'northeast', 'northeast', 'northwest', 'southwest', 'northwest', 'southwest', 'southwest', 'northwest', 'southeast', 'northeast', 'southwest', 'southeast', 'northeast', 'northwest', 'southwest', 'southeast', 'southeast', 'northwest', 'southwest', 'northeast', 'northwest', 'southwest', 'southwest', 'southwest', 'northwest', 'southwest', 'northwest', 'southeast', 'southwest', 'southeast', 'northwest', 'southwest', 'southeast', 'southeast', 'southwest', 'northeast', 'northeast', 'northwest', 'southeast', 'southwest', 'northwest', 'northeast', 'southeast', 'southeast', 'northeast', 'southwest', 'northeast', 'southwest', 'northwest', 'northeast', 'northwest', 'southeast', 'southeast', 'northwest', 'southeast', 'southeast', 'southwest', 'southwest', 'northeast', 'northwest', 'southwest', 'southeast', 'northwest', 'southwest', 'southeast', 'northeast', 'southwest', 'southwest', 'northeast', 'southwest', 'southwest', 'southeast', 'southwest', 'southwest', 'northeast', 'southeast', 'southeast', 'southeast', 'northwest', 'northwest', 'northwest', 'northeast', 'southwest', 'northeast', 'southeast', 'northeast', 'southwest', 'southwest', 'southwest', 'southeast', 'northwest', 'southwest', 'northeast', 'northeast', 'southeast', 'northeast', 'southeast', 'southeast', 'southeast', 'northwest', 'southwest', 'northeast', 'northeast', 'southeast', 'northeast', 'southeast', 'southeast', 'southeast', 'northeast', 'southwest', 'southwest', 'southeast', 'southeast', 'southwest', 'southeast', 'southeast', 'southeast', 'northwest', 'northwest', 'northeast', 'southwest', 'northeast', 'southeast', 'southwest', 'southeast', 'southwest', 'northwest', 'northeast', 'southwest', 'northeast', 'southeast', 'northwest', 'northwest', 'northwest', 'northeast', 'southwest', 'southeast', 'southeast', 'northwest', 'northwest', 'northwest', 'southwest', 'northwest', 'southwest', 'southeast', 'southeast', 'northeast', 'northeast', 'northwest', 'southeast', 'northeast', 'southwest', 'northeast', 'northeast', 'northwest', 'southeast', 'southeast', 'southwest', 'southeast', 'northeast', 'northwest', 'northeast', 'southeast', 'southwest', 'northwest', 'southeast', 'northeast', 'southeast', 'northeast', 'southeast', 'northeast', 'southwest', 'northwest', 'southeast', 'northwest', 'southwest', 'southeast', 'northwest', 'southeast', 'northeast', 'northwest', 'northeast', 'southwest', 'southeast', 'southwest', 'northeast', 'northeast', 'southeast', 'southeast', 'northeast', 'southwest', 'southeast', 'southwest', 'southwest', 'southwest', 'southwest', 'northeast', 'northwest', 'northwest', 'northeast', 'southeast', 'southwest', 'northwest', 'southwest', 'southwest', 'southeast', 'northeast', 'southwest', 'northeast', 'northwest', 'northeast', 'northeast', 'southeast', 'southwest', 'northwest', 'northeast', 'northwest', 'southeast', 'northeast', 'northwest', 'northeast', 'northeast', 'northeast', 'southeast', 'southeast', 'southeast', 'southeast', 'southeast', 'southeast', 'southwest', 'northwest', 'northeast', 'northeast', 'southeast', 'southeast', 'northeast', 'southeast', 'southeast', 'southeast', 'southwest', 'northwest', 'northeast', 'southeast', 'southeast', 'northeast', 'southeast', 'southeast', 'southeast', 'northwest', 'southeast', 'northwest', 'southwest', 'northwest', 'southwest', 'southwest', 'southwest', 'northwest', 'southwest', 'northeast', 'northeast', 'southeast', 'southwest', 'southeast', 'northeast', 'southwest', 'northwest', 'northwest', 'southwest', 'northwest', 'northeast', 'southeast', 'northwest', 'southeast', 'southeast', 'northeast', 'southeast', 'northwest', 'northwest', 'southwest', 'southeast', 'northwest', 'northeast', 'northeast', 'southeast', 'southeast', 'northwest', 'northeast', 'southwest', 'southwest', 'northwest', 'northwest', 'northwest', 'northwest', 'northeast', 'southwest', 'southwest', 'southwest', 'northeast', 'southeast', 'northwest', 'northeast', 'northeast', 'southeast', 'southeast', 'southwest', 'southwest', 'northeast', 'southwest', 'northwest', 'southeast', 'southwest', 'northeast', 'southwest', 'northeast', 'southeast', 'northeast', 'southeast', 'northwest', 'northwest', 'southwest', 'northwest', 'southwest', 'northwest', 'southeast', 'northwest', 'northwest', 'southeast', 'northeast', 'northeast', 'northeast', 'southeast', 'northeast', 'southeast', 'northeast', 'southwest', 'southwest', 'northeast', 'northeast', 'northwest', 'southwest', 'southwest', 'southwest', 'northwest', 'southwest', 'southwest', 'northeast', 'northwest', 'northwest', 'southeast', 'northwest', 'northeast', 'southeast', 'northwest', 'southwest', 'southeast', 'southeast', 'southwest', 'southeast', 'southwest', 'northeast', 'northwest', 'northeast', 'southeast', 'southeast', 'southwest', 'northeast', 'southeast', 'northwest', 'northwest', 'southeast', 'northeast', 'southwest', 'northeast', 'southeast', 'southeast', 'southwest', 'southeast', 'southeast', 'northwest', 'northwest', 'northwest', 'southeast', 'northeast', 'southwest', 'northwest', 'southeast', 'northeast', 'southeast', 'southeast', 'northwest', 'southwest', 'northeast', 'northwest', 'southwest', 'northwest', 'southeast', 'southeast', 'northwest', 'northeast', 'southeast', 'northeast', 'northeast', 'northwest', 'southwest', 'northwest', 'northwest', 'northwest', 'northwest', 'southeast', 'southwest', 'northeast', 'northeast', 'northwest', 'southwest', 'northeast', 'southeast', 'southeast', 'northeast', 'southeast', 'southwest', 'southeast', 'southwest', 'northwest', 'northeast', 'northwest', 'northeast', 'northeast', 'northeast', 'southwest', 'southeast', 'northwest', 'southeast', 'southwest', 'southwest', 'southwest', 'northwest', 'northeast', 'southwest', 'southwest', 'southeast', 'southwest', 'northeast', 'southwest', 'southwest', 'southeast', 'southeast', 'southwest', 'northeast', 'northwest', 'southwest', 'southeast', 'southwest', 'southwest', 'southwest', 'northwest', 'northeast', 'northeast', 'northwest', 'southeast', 'northeast', 'northwest', 'southwest', 'northwest', 'northwest', 'southeast', 'northeast', 'southeast', 'northeast', 'southwest', 'northeast', 'northwest', 'southeast', 'northwest', 'northeast', 'southeast', 'northeast', 'southeast', 'southwest', 'northeast', 'northeast', 'southeast', 'southwest', 'southwest', 'northwest', 'northeast', 'northwest', 'southwest', 'northwest', 'southeast', 'northwest', 'northeast', 'southwest', 'southeast', 'southwest', 'southwest', 'southwest', 'northwest', 'southwest', 'northeast', 'southwest', 'southwest', 'southeast', 'southeast', 'southeast', 'southwest', 'southwest', 'southwest', 'southeast', 'southwest', 'northeast', 'northwest', 'southeast', 'southeast', 'southeast', 'southeast', 'northeast', 'northwest', 'southeast', 'southwest', 'southwest', 'northeast', 'northwest', 'southwest', 'northeast', 'southeast', 'northwest', 'southwest', 'northwest', 'southeast', 'southeast', 'northwest', 'northeast', 'northwest', 'northwest', 'southwest', 'southeast', 'northeast', 'northwest', 'southwest', 'northwest', 'northwest', 'northeast', 'southeast', 'southeast', 'northeast', 'northwest', 'southwest', 'southeast', 'northeast', 'southeast', 'southeast', 'northeast', 'southeast', 'northeast', 'northeast', 'southwest', 'northeast', 'northeast', 'southwest', 'northwest', 'northwest', 'northeast', 'northeast', 'southwest', 'northeast', 'southwest', 'southeast', 'northwest', 'northeast', 'southwest', 'southeast', 'northeast', 'northwest', 'northwest', 'southwest', 'southwest', 'southwest', 'northeast', 'northwest', 'northeast', 'northwest', 'northeast', 'northeast', 'southwest', 'southeast', 'southeast', 'northwest', 'southwest', 'northwest', 'northwest', 'southwest', 'northwest', 'northwest', 'southwest', 'southeast', 'southeast', 'southeast', 'southeast', 'southwest', 'northwest', 'northwest', 'southwest', 'northeast', 'northwest', 'southeast', 'northeast', 'northeast', 'northwest', 'southwest', 'southeast', 'northwest', 'northeast', 'northwest', 'northwest', 'northeast', 'northeast', 'southwest', 'northeast', 'northwest', 'northeast', 'southeast', 'northwest', 'southwest', 'northwest', 'northeast', 'northeast', 'southwest', 'northwest', 'northwest', 'southwest', 'southeast', 'southeast', 'northwest', 'southeast', 'southeast', 'southeast', 'northwest', 'southwest', 'southwest', 'southeast', 'northeast', 'northwest', 'southeast', 'southeast', 'northeast', 'northwest', 'northeast', 'northeast', 'southeast', 'southwest', 'northeast', 'southeast', 'southeast', 'southeast', 'northwest', 'northwest', 'southwest', 'northwest', 'southwest', 'northeast', 'northwest', 'southeast', 'southwest', 'southeast', 'northeast', 'southwest', 'northwest', 'southwest', 'northeast', 'northeast', 'southeast', 'northeast', 'southeast', 'northeast', 'southwest', 'southeast', 'southeast', 'southwest', 'southeast', 'northwest', 'northwest', 'southwest', 'southeast', 'northeast', 'southeast', 'southeast', 'northwest', 'northeast', 'southeast', 'northeast', 'southeast', 'southeast', 'northwest', 'southwest', 'southeast', 'northwest', 'northeast', 'northeast', 'northwest', 'southwest', 'southeast', 'southwest', 'southwest', 'southeast', 'southwest', 'northeast', 'northwest', 'northwest', 'northwest', 'southwest', 'northwest', 'southeast', 'northwest', 'southeast', 'southwest', 'southeast', 'southeast', 'southwest', 'northwest', 'southwest', 'northwest', 'southwest', 'southwest', 'northeast', 'northwest', 'southeast', 'northwest', 'northwest', 'northeast', 'southeast', 'northwest', 'northeast', 'southwest', 'northwest', 'southeast', 'southeast', 'northeast', 'northwest', 'northeast', 'southeast', 'southwest', 'southwest', 'northwest', 'northeast', 'southwest', 'southeast', 'northwest', 'northwest', 'southwest', 'northwest', 'southwest', 'northeast', 'southeast', 'northeast', 'northwest', 'southwest', 'northeast', 'southeast', 'northeast', 'northwest', 'northwest', 'northeast', 'southwest', 'northwest', 'northeast', 'northeast', 'northwest', 'northwest', 'northwest', 'northwest', 'southeast', 'northwest', 'southwest', 'northwest', 'northwest', 'northwest', 'northeast', 'southeast', 'northwest', 'southwest', 'southwest', 'northeast', 'southwest', 'northwest', 'southeast', 'northeast', 'southwest', 'northwest', 'northeast', 'southeast', 'southeast', 'southwest', 'northwest', 'northeast', 'southeast', 'southeast', 'southeast', 'northeast', 'southeast', 'northeast', 'southeast', 'southeast', 'northeast', 'northwest', 'southwest', 'northwest', 'southwest', 'southeast', 'northwest', 'northeast', 'northwest', 'northeast', 'southeast', 'southeast', 'southeast', 'northwest', 'southeast', 'southeast', 'southwest', 'southwest', 'southwest', 'southeast', 'northeast', 'northeast', 'southwest', 'southwest', 'southwest', 'southeast', 'southwest', 'northwest', 'northwest', 'northwest', 'northeast', 'northeast', 'southwest', 'southeast', 'southwest', 'northeast', 'southeast', 'southwest', 'northeast', 'southwest', 'southwest', 'northwest', 'northwest', 'southeast', 'southeast', 'southeast', 'southwest', 'northeast', 'northwest', 'northeast', 'northwest', 'southeast', 'northwest', 'northeast', 'southeast', 'southwest', 'northeast', 'northeast', 'southwest', 'southwest', 'southeast', 'northeast', 'southwest', 'southeast', 'northwest', 'northeast', 'southwest', 'northeast', 'southeast', 'northwest', 'northwest', 'southeast', 'northwest', 'southwest', 'southwest', 'northeast', 'southeast', 'northeast', 'northwest', 'southwest', 'southwest', 'northwest', 'northwest', 'southwest', 'southwest', 'northwest', 'northeast', 'southwest', 'southeast', 'northeast', 'northwest', 'northwest', 'northeast', 'southeast', 'southeast', 'northwest', 'northeast', 'northeast', 'southeast', 'northeast', 'southwest', 'southeast', 'southwest', 'southwest', 'northwest', 'northeast', 'southeast', 'southwest', 'northwest'], 'charges': [16884.92, 1725.55, 4449.46, 21984.47, 3866.86, 3756.62, 8240.59, 7281.51, 6406.41, 28923.14, 2721.32, 27808.73, 1826.84, 11090.72, 39611.76, 1837.24, 10797.34, 2395.17, 10602.39, 36837.47, 13228.85, 4149.74, 1137.01, 37701.88, 6203.9, 14001.13, 14451.84, 12268.63, 2775.19, 38711.0, 35585.58, 2198.19, 4687.8, 13770.1, 51194.56, 1625.43, 15612.19, 2302.3, 39774.28, 48173.36, 3046.06, 4949.76, 6272.48, 6313.76, 6079.67, 20630.28, 3393.36, 3556.92, 12629.9, 38709.18, 2211.13, 3579.83, 23568.27, 37742.58, 8059.68, 47496.49, 13607.37, 34303.17, 23244.79, 5989.52, 8606.22, 4504.66, 30166.62, 4133.64, 14711.74, 1743.21, 14235.07, 6389.38, 5920.1, 17663.14, 16577.78, 6799.46, 11741.73, 11946.63, 7726.85, 11356.66, 3947.41, 1532.47, 2755.02, 6571.02, 4441.21, 7935.29, 37165.16, 11033.66, 39836.52, 21098.55, 43578.94, 11073.18, 8026.67, 11082.58, 2026.97, 10942.13, 30184.94, 5729.01, 47291.06, 3766.88, 12105.32, 10226.28, 22412.65, 15820.7, 6186.13, 3645.09, 21344.85, 30942.19, 5003.85, 17560.38, 2331.52, 3877.3, 2867.12, 47055.53, 10825.25, 11881.36, 4646.76, 2404.73, 11488.32, 30260.0, 11381.33, 19107.78, 8601.33, 6686.43, 7740.34, 1705.62, 2257.48, 39556.49, 10115.01, 3385.4, 17081.08, 9634.54, 32734.19, 6082.4, 12815.44, 13616.36, 11163.57, 1632.56, 2457.21, 2155.68, 1261.44, 2045.69, 27322.73, 2166.73, 27375.9, 3490.55, 18972.49, 18157.88, 20745.99, 5138.26, 40720.55, 9877.61, 10959.69, 1842.52, 5125.22, 7789.64, 6334.34, 19964.75, 7077.19, 6948.7, 21223.68, 15518.18, 36950.26, 19749.38, 21348.71, 36149.48, 10450.55, 5152.13, 5028.15, 10407.09, 4830.63, 6128.8, 2719.28, 4827.9, 13405.39, 8116.68, 1694.8, 5246.05, 2855.44, 48824.45, 6455.86, 10436.1, 8823.28, 8538.29, 11735.88, 1631.82, 4005.42, 7419.48, 7731.43, 43753.34, 3981.98, 5325.65, 6775.96, 4922.92, 12557.61, 4883.87, 2137.65, 12044.34, 1137.47, 1639.56, 5649.72, 8516.83, 9644.25, 14901.52, 2130.68, 8871.15, 13012.21, 37133.9, 7147.1, 4337.74, 11743.3, 20984.09, 13880.95, 6610.11, 1980.07, 8162.72, 3537.7, 5002.78, 8520.03, 7371.77, 10355.64, 2483.74, 3392.98, 25081.77, 5012.47, 10564.88, 5253.52, 34779.61, 19515.54, 11987.17, 2689.5, 24227.34, 7358.18, 9225.26, 7443.64, 14001.29, 1727.79, 12333.83, 6710.19, 19444.27, 1615.77, 4463.21, 17352.68, 7152.67, 38511.63, 5354.07, 35160.13, 7196.87, 29523.17, 24476.48, 12648.7, 1986.93, 1832.09, 4040.56, 12829.46, 47305.31, 44260.75, 4260.74, 41097.16, 13047.33, 43921.18, 5400.98, 11520.1, 33750.29, 11837.16, 17085.27, 24869.84, 36219.41, 20463.0, 46151.12, 17179.52, 14590.63, 7441.05, 9282.48, 1719.44, 42856.84, 7265.7, 9617.66, 2523.17, 9715.84, 2803.7, 2150.47, 12928.79, 9855.13, 22331.57, 48549.18, 4237.13, 11879.1, 9625.92, 7742.11, 9432.93, 14256.19, 47896.79, 25992.82, 3172.02, 20277.81, 42112.24, 2156.75, 3906.13, 1704.57, 16297.85, 21978.68, 38746.36, 9249.5, 6746.74, 24873.38, 12265.51, 4349.46, 12646.21, 19442.35, 20177.67, 4151.03, 11944.59, 7749.16, 8444.47, 1737.38, 42124.52, 8124.41, 34838.87, 9722.77, 8835.26, 10435.07, 7421.19, 4667.61, 4894.75, 24671.66, 35491.64, 11566.3, 2866.09, 6600.21, 3561.89, 42760.5, 47928.03, 9144.57, 48517.56, 24393.62, 13429.04, 11658.38, 19144.58, 13822.8, 12142.58, 13937.67, 41919.1, 8232.64, 18955.22, 13352.1, 13217.09, 13981.85, 10977.21, 6184.3, 4890.0, 8334.46, 5478.04, 1635.73, 11830.61, 8932.08, 3554.2, 12404.88, 14133.04, 24603.05, 8944.12, 9620.33, 1837.28, 1607.51, 10043.25, 4751.07, 13844.51, 2597.78, 3180.51, 9778.35, 13430.26, 8017.06, 8116.27, 3481.87, 13415.04, 12029.29, 7639.42, 36085.22, 1391.53, 18033.97, 21659.93, 38126.25, 16455.71, 27000.98, 15006.58, 42303.69, 20781.49, 5846.92, 8302.54, 1261.86, 11856.41, 30284.64, 3176.82, 4618.08, 10736.87, 2138.07, 8964.06, 9290.14, 9411.0, 7526.71, 8522.0, 16586.5, 14988.43, 1631.67, 9264.8, 8083.92, 14692.67, 10269.46, 3260.2, 11396.9, 4185.1, 8539.67, 6652.53, 4074.45, 1621.34, 19594.81, 14455.64, 5080.1, 2134.9, 7345.73, 9140.95, 18608.26, 14418.28, 28950.47, 46889.26, 46599.11, 39125.33, 2727.4, 8968.33, 9788.87, 6555.07, 7323.73, 3167.46, 18804.75, 23082.96, 4906.41, 5969.72, 12638.19, 4243.59, 13919.82, 2254.8, 5926.85, 12592.53, 2897.32, 4738.27, 37079.37, 1149.4, 28287.9, 26109.33, 7345.08, 12731.0, 11454.02, 5910.94, 4762.33, 7512.27, 4032.24, 1969.61, 1769.53, 4686.39, 21797.0, 11881.97, 11840.78, 10601.41, 7682.67, 10381.48, 22144.03, 15230.32, 11165.42, 1632.04, 19521.97, 13224.69, 12643.38, 23288.93, 2201.1, 2497.04, 2203.47, 1744.46, 20878.78, 25382.3, 28868.66, 35147.53, 2534.39, 1534.3, 1824.29, 15555.19, 9304.7, 1622.19, 9880.07, 9563.03, 4347.02, 12475.35, 1253.94, 48885.14, 10461.98, 1748.77, 24513.09, 2196.47, 12574.05, 17942.11, 1967.02, 4931.65, 8027.97, 8211.1, 13470.86, 36197.7, 6837.37, 22218.11, 32548.34, 5974.38, 6796.86, 2643.27, 3077.1, 3044.21, 11455.28, 11763.0, 2498.41, 9361.33, 1256.3, 21082.16, 11362.75, 27724.29, 8413.46, 5240.77, 3857.76, 25656.58, 3994.18, 9866.3, 5397.62, 38245.59, 11482.63, 24059.68, 9861.02, 8342.91, 1708.0, 48675.52, 14043.48, 12925.89, 19214.71, 13831.12, 6067.13, 5972.38, 8825.09, 8233.1, 27346.04, 6196.45, 3056.39, 13887.2, 63770.43, 10231.5, 23807.24, 3268.85, 11538.42, 3213.62, 45863.21, 13390.56, 3972.92, 12957.12, 11187.66, 17878.9, 3847.67, 8334.59, 3935.18, 39983.43, 1646.43, 9193.84, 10923.93, 2494.02, 9058.73, 2801.26, 2128.43, 6373.56, 7256.72, 11552.9, 45702.02, 3761.29, 2219.45, 4753.64, 31620.0, 13224.06, 12222.9, 1665.0, 58571.07, 9724.53, 3206.49, 12913.99, 1639.56, 6356.27, 17626.24, 1242.82, 4779.6, 3861.21, 43943.88, 13635.64, 5976.83, 11842.44, 8428.07, 2566.47, 15359.1, 5709.16, 8823.99, 7640.31, 5594.85, 7441.5, 33471.97, 1633.04, 9174.14, 11070.53, 16085.13, 17468.98, 9283.56, 3558.62, 25678.78, 4435.09, 39241.44, 8547.69, 6571.54, 2207.7, 6753.04, 1880.07, 42969.85, 11658.12, 23306.55, 34439.86, 10713.64, 3659.35, 40182.25, 9182.17, 34617.84, 12129.61, 3736.46, 6748.59, 11326.71, 11365.95, 42983.46, 10085.85, 1977.82, 3366.67, 7173.36, 9391.35, 14410.93, 2709.11, 24915.05, 20149.32, 12949.16, 6666.24, 32787.46, 13143.86, 4466.62, 18806.15, 10141.14, 6123.57, 8252.28, 1712.23, 12430.95, 9800.89, 10579.71, 8280.62, 8527.53, 12244.53, 24667.42, 3410.32, 4058.71, 26392.26, 14394.4, 6435.62, 22192.44, 5148.55, 1136.4, 27037.91, 42560.43, 8703.46, 40003.33, 45710.21, 6500.24, 4837.58, 3943.6, 4399.73, 6185.32, 46200.99, 7222.79, 12485.8, 46130.53, 12363.55, 10156.78, 2585.27, 1242.26, 40103.89, 9863.47, 4766.02, 11244.38, 7729.65, 5438.75, 26236.58, 34806.47, 2104.11, 8068.19, 2362.23, 2352.97, 3578.0, 3201.25, 29186.48, 40273.65, 10976.25, 3500.61, 2020.55, 9541.7, 9504.31, 5385.34, 8930.93, 5375.04, 44400.41, 10264.44, 6113.23, 5469.01, 1727.54, 10107.22, 8310.84, 1984.45, 2457.5, 12146.97, 9566.99, 13112.6, 10848.13, 12231.61, 9875.68, 11264.54, 12979.36, 1263.25, 10106.13, 40932.43, 6664.69, 16657.72, 2217.6, 6781.35, 19362.0, 10065.41, 4234.93, 9447.25, 14007.22, 9583.89, 40419.02, 3484.33, 36189.1, 44585.46, 8604.48, 18246.5, 43254.42, 3757.84, 8827.21, 9910.36, 11737.85, 1627.28, 8556.91, 3062.51, 19539.24, 1906.36, 14210.54, 11833.78, 17128.43, 5031.27, 7985.81, 23065.42, 5428.73, 36307.8, 3925.76, 2416.95, 19040.88, 3070.81, 9095.07, 11842.62, 8062.76, 7050.64, 14319.03, 6933.24, 27941.29, 11150.78, 12797.21, 17748.51, 7261.74, 10560.49, 6986.7, 7448.4, 5934.38, 9869.81, 18259.22, 1146.8, 9386.16, 24520.26, 4350.51, 6414.18, 12741.17, 1917.32, 5209.58, 13457.96, 5662.23, 1252.41, 2731.91, 21195.82, 7209.49, 18310.74, 4266.17, 4719.52, 11848.14, 17904.53, 7046.72, 14313.85, 2103.08, 38792.69, 1815.88, 7731.86, 28476.73, 2136.88, 1131.51, 3309.79, 9414.92, 6360.99, 11013.71, 4428.89, 5584.31, 1877.93, 2842.76, 3597.6, 23401.31, 55135.4, 7445.92, 2680.95, 1621.88, 8219.2, 12523.6, 16069.08, 43813.87, 20773.63, 39597.41, 6117.49, 13393.76, 5266.37, 4719.74, 11743.93, 5377.46, 7160.33, 4402.23, 11657.72, 6402.29, 12622.18, 1526.31, 12323.94, 36021.01, 27533.91, 10072.06, 45008.96, 9872.7, 2438.06, 2974.13, 10601.63, 37270.15, 14119.62, 42111.66, 11729.68, 24106.91, 1875.34, 40974.16, 15817.99, 18218.16, 10965.45, 46113.51, 7151.09, 12269.69, 5458.05, 8782.47, 6600.36, 1141.45, 11576.13, 13129.6, 4391.65, 8457.82, 3392.37, 5966.89, 6849.03, 8891.14, 2690.11, 26140.36, 6653.79, 6282.23, 6311.95, 3443.06, 2789.06, 2585.85, 46255.11, 4877.98, 19719.69, 27218.44, 5272.18, 1682.6, 11945.13, 29330.98, 7243.81, 10422.92, 44202.65, 13555.0, 13063.88, 19798.05, 2221.56, 1634.57, 2117.34, 8688.86, 48673.56, 4661.29, 8125.78, 12644.59, 4564.19, 4846.92, 7633.72, 15170.07, 17496.31, 2639.04, 33732.69, 14382.71, 7626.99, 5257.51, 2473.33, 21774.32, 35069.37, 13041.92, 5245.23, 13451.12, 13462.52, 5488.26, 4320.41, 6250.44, 25333.33, 2913.57, 12032.33, 13470.8, 6289.75, 2927.06, 6238.3, 10096.97, 7348.14, 4673.39, 12233.83, 32108.66, 8965.8, 2304.0, 9487.64, 1121.87, 9549.57, 2217.47, 1628.47, 12982.87, 11674.13, 7160.09, 39047.29, 6358.78, 19933.46, 11534.87, 47462.89, 4527.18, 38998.55, 20009.63, 3875.73, 41999.52, 12609.89, 41034.22, 28468.92, 2730.11, 3353.28, 14474.67, 9500.57, 26467.1, 4746.34, 23967.38, 7518.03, 3279.87, 8596.83, 10702.64, 4992.38, 2527.82, 1759.34, 2322.62, 16138.76, 7804.16, 2902.91, 9704.67, 4889.04, 25517.11, 4500.34, 19199.94, 16796.41, 4915.06, 7624.63, 8410.05, 28340.19, 4518.83, 14571.89, 3378.91, 7144.86, 10118.42, 5484.47, 16420.49, 7986.48, 7418.52, 13887.97, 6551.75, 5267.82, 17361.77, 34472.84, 1972.95, 21232.18, 8627.54, 4433.39, 4438.26, 24915.22, 23241.47, 9957.72, 8269.04, 18767.74, 36580.28, 8765.25, 5383.54, 12124.99, 2709.24, 3987.93, 12495.29, 26018.95, 8798.59, 35595.59, 42211.14, 1711.03, 8569.86, 2020.18, 16450.89, 21595.38, 9850.43, 6877.98, 21677.28, 44423.8, 4137.52, 13747.87, 12950.07, 12094.48, 37484.45, 39725.52, 2250.84, 22493.66, 20234.85, 1704.7, 33475.82, 3161.45, 11394.07, 21880.82, 7325.05, 44501.4, 3594.17, 39727.61, 8023.14, 14394.56, 9288.03, 25309.49, 3353.47, 10594.5, 8277.52, 17929.3, 2480.98, 4462.72, 1981.58, 11554.22, 48970.25, 6548.2, 5708.87, 7045.5, 8978.19, 5757.41, 14349.85, 10928.85, 39871.7, 13974.46, 1909.53, 12096.65, 13204.29, 4562.84, 8551.35, 2102.26, 34672.15, 15161.53, 11884.05, 4454.4, 5855.9, 4076.5, 15019.76, 19023.26, 10796.35, 11353.23, 9748.91, 10577.09, 41676.08, 11286.54, 3591.48, 33907.55, 11299.34, 4561.19, 44641.2, 1674.63, 23045.57, 3227.12, 16776.3, 11253.42, 3471.41, 11363.28, 20420.6, 10338.93, 8988.16, 10493.95, 2904.09, 8605.36, 11512.41, 41949.24, 24180.93, 5312.17, 2396.1, 10807.49, 9222.4, 36124.57, 38282.75, 5693.43, 34166.27, 8347.16, 46661.44, 18903.49, 40904.2, 14254.61, 10214.64, 5836.52, 14358.36, 1728.9, 8582.3, 3693.43, 20709.02, 9991.04, 19673.34, 11085.59, 7623.52, 3176.29, 3704.35, 36898.73, 9048.03, 7954.52, 27117.99, 6338.08, 9630.4, 11289.11, 52590.83, 2261.57, 10791.96, 5979.73, 2203.74, 12235.84, 40941.29, 5630.46, 11015.17, 7228.22, 39722.75, 14426.07, 2459.72, 3989.84, 7727.25, 5124.19, 18963.17, 2200.83, 7153.55, 5227.99, 10982.5, 4529.48, 4670.64, 6112.35, 17178.68, 22478.6, 11093.62, 6457.84, 4433.92, 2154.36, 23887.66, 6496.89, 2899.49, 19350.37, 7650.77, 2850.68, 2632.99, 9447.38, 18328.24, 8603.82, 37465.34, 13844.8, 21771.34, 13126.68, 5327.4, 13725.47, 13019.16, 8671.19, 4134.08, 18838.7, 33307.55, 5699.84, 6393.6, 4934.7, 6198.75, 8733.23, 2055.32, 9964.06, 18223.45, 5116.5, 36910.61, 38415.47, 20296.86, 12347.17, 5373.36, 23563.02, 1702.46, 10806.84, 3956.07, 12890.06, 5415.66, 4058.12, 41661.6, 7537.16, 4718.2, 6593.51, 8442.67, 26125.67, 6858.48, 4795.66, 6640.54, 7162.01, 10594.23, 11938.26, 60021.4, 20167.34, 12479.71, 11345.52, 8515.76, 2699.57, 14449.85, 12224.35, 6985.51, 3238.44, 47269.85, 49577.66, 4296.27, 3171.61, 1135.94, 5615.37, 9101.8, 6059.17, 1633.96, 37607.53, 18648.42, 1241.57, 16232.85, 15828.82, 4415.16, 6474.01, 11436.74, 11305.93, 30063.58, 10197.77, 4544.23, 3277.16, 6770.19, 7337.75, 10370.91, 26926.51, 10704.47, 34254.05, 1880.49, 8615.3, 3292.53, 3021.81, 14478.33, 4747.05, 17043.34, 10959.33, 2741.95, 4357.04, 22462.04, 4189.11, 8283.68, 24535.7, 14283.46, 1720.35, 47403.88, 8534.67, 3732.63, 5472.45, 38344.57, 7147.47, 7133.9, 34828.65, 1515.34, 9301.89, 11931.13, 1964.78, 1708.93, 4340.44, 5261.47, 2710.83, 62592.87, 46718.16, 3208.79, 37829.72, 21259.38, 2464.62, 16115.3, 21472.48, 33900.65, 6875.96, 6940.91, 4571.41, 4536.26, 36397.58, 18765.88, 11272.33, 1731.68, 1163.46, 19496.72, 7201.7, 5425.02, 28101.33, 12981.35, 43896.38, 4239.89, 13143.34, 7050.02, 9377.9, 22395.74, 10325.21, 12629.17, 10795.94, 11411.68, 10600.55, 2205.98, 1629.83, 2007.94, 29141.36]}\n"
     ]
    }
   ],
   "source": [
    "# Displaying the data dictionary\n",
    "print(data_dict)"
   ]
  },
  {
   "cell_type": "markdown",
   "metadata": {},
   "source": [
    "## 3. Analysis"
   ]
  },
  {
   "cell_type": "markdown",
   "metadata": {},
   "source": [
    "### 3.1. Functions"
   ]
  },
  {
   "cell_type": "code",
   "execution_count": 5,
   "metadata": {},
   "outputs": [],
   "source": [
    "def arranger_counter_dict_maker(data_list):\n",
    "    \"\"\"This function takes a list as the only argument, and returns a dictionary, \n",
    "    where the keys are the different items of the list sorted (alphabetic or numerically), and \n",
    "    the values are how many times that item appears in that list.\"\"\"\n",
    "    sorted_list = sorted(data_list)\n",
    "    count_list = []\n",
    "    count_list = [data_list.count(i) for i in sorted_list]\n",
    "    return {key:value for key, value in zip(sorted_list, count_list)}\n",
    "\n",
    "def percentage_calculator(sample, total):\n",
    "    \"\"\"This function calculates a percentage round 100. It needs two numbers to work: a sample \n",
    "    (int or float) and a total as arguments. Total must be greater than number\"\"\"\n",
    "    return sample * 100 / total\n",
    "\n",
    "def sum_second_value(dictionary, key_1, value_1, key_2):\n",
    "    \"\"\"This function takes four arguments: a dictionary, two of its keys and one value belonging \n",
    "    to the first key. It returns the sum of all the values of the second key that have the \n",
    "    same index than the first value in the first key.\"\"\"\n",
    "    total = 0\n",
    "    for i in range(len(dictionary[key_1])):\n",
    "        if dictionary[key_1][i] == value_1:\n",
    "            total += dictionary[key_2][i]\n",
    "    return total\n",
    "\n",
    "def fftl_inclusive_dt_arranger(dt_list, bottom_value, top_value):\n",
    "    \"\"\"This function counts how many items are in a list in a range from bottom value to top \n",
    "    value. If there is no top value, put 'inf' as top value.\"\"\"\n",
    "    item_counter = 0\n",
    "    for i in dt_list:\n",
    "        if i >= bottom_value and top_value == 'inf':\n",
    "            item_counter += 1\n",
    "        elif i >= bottom_value and i <= top_value:\n",
    "            item_counter += 1\n",
    "    return item_counter\n",
    "\n",
    "def mean_second_value(dictionary, key_1, value_1, key_2):\n",
    "    \"\"\"This function takes four arguments: a dictionary, two of its keys and one value belonging \n",
    "    to the first key. It returns the mean of all the values in the second key that have the \n",
    "    same index than the first value in the first key. It requires to import numpy as np to work\n",
    "    properly\"\"\"\n",
    "    value_2_list = [dictionary[key_2][i] for i in range(len(dictionary[key_1])) if dictionary[key_1][i] == value_1]\n",
    "    value_2_array = np.array(value_2_list)\n",
    "    value_2_mean = np.mean(value_2_array)\n",
    "    return value_2_mean\n",
    "\n",
    "def median_second_value(dictionary, key_1, value_1, key_2):\n",
    "    \"\"\"This function takes four arguments: a dictionary, two of its keys and one value belonging \n",
    "    to the first key. It returns the median of all the values in the second key that have the \n",
    "    same index than the first value in the first key. It requires to import numpy as np to work\n",
    "    properly\"\"\"\n",
    "    value_2_list = [dictionary[key_2][i] for i in range(len(dictionary[key_1])) if dictionary[key_1][i] == value_1]\n",
    "    value_2_array = np.array(value_2_list)\n",
    "    value_2_median = np.median(value_2_array)\n",
    "    return value_2_median\n",
    "\n",
    "def interquartile_range_finder(dictionary, key_1, value_1, key_2):\n",
    "    \"\"\"This function takes four arguments: a dictionary, two of its keys and one value belonging \n",
    "    to the first key. It returns the interquartile range of all the values in the second key that have the \n",
    "    same index than the first value in the first key. It requires to import numpy as np to work\n",
    "    properly\"\"\"\n",
    "    value_2_list = [dictionary[key_2][i] for i in range(len(dictionary[key_1])) if dictionary[key_1][i] == value_1]\n",
    "    value_2_array = np.array(value_2_list)\n",
    "    first_percentile = np.percentile(value_2_array, 25)\n",
    "    third_percentile = np.percentile(value_2_array, 75)\n",
    "    return third_percentile - first_percentile\n",
    "    \n",
    "def lowest_value_index_sample(dictionary, key):\n",
    "    \"\"\"This function takes a dictionary and one of its keys as arguments. If all dictionary \n",
    "    values are lists, it continues. If not, it stops and prints a message. In the first case, \n",
    "    the function looks for the index of the lowest value of one key, and returns a dictionary \n",
    "    where the keys are the same than the dictionary given as argument, and the values for\n",
    "    each key are those that share the aforementioned index.\"\"\"\n",
    "    returned_dictionary = {}\n",
    "    index = 0\n",
    "    for i in range(len(dictionary[key])):\n",
    "        if dictionary[key][i] == min(dictionary[key]):\n",
    "            index = i\n",
    "    for i in dictionary:\n",
    "        returned_dictionary[i] = dictionary[i][index]\n",
    "    return returned_dictionary\n",
    "\n",
    "def highest_value_index_sample(dictionary, key):\n",
    "    \"\"\"This function takes a dictionary and one of its keys as arguments. If all dictionary \n",
    "    values are lists, it continues. If not, it stops and prints a message. In the first case, \n",
    "    the function looks for the index of the lowest value of one key, and returns a dictionary \n",
    "    where the keys are the same than the dictionary given as argument, and the values for\n",
    "    each key are those that share the aforementioned index.\"\"\"\n",
    "    returned_dictionary = {}\n",
    "    index = 0\n",
    "    for i in range(len(dictionary[key])):\n",
    "        if dictionary[key][i] == max(dictionary[key]):\n",
    "            index = i\n",
    "    for i in dictionary:\n",
    "        returned_dictionary[i] = dictionary[i][index]\n",
    "    return returned_dictionary\n",
    "\n",
    "def dictionary_range_maker(dictionary, key_1, key_2, range_bottom, range_top, new_key_1, new_key_2):\n",
    "    \"\"\"This function takes as argument a dictionary, two of its keys, two numbers to use in a \n",
    "    range function, and two strings that will act as keys for a new dictionary. It takes all the\n",
    "    values in a given range of the first key of a dictionary, and appends them to a new list called\n",
    "    new_values_1. The values from the key_2 that have the same index than the chosen values from \n",
    "    key_1 are also put in a new list called new_values_2. The function returns a dictionary where\n",
    "    the keys are the two names given as the last two arguments, and their values are the new \n",
    "    lists\"\"\"\n",
    "    returned_dictionary = {}\n",
    "    new_values_1 = []\n",
    "    new_values_2 = []\n",
    "    for i in range(len(dictionary[key_1])):\n",
    "        if dictionary[key_1][i] >= range_bottom and range_top == 'inf':\n",
    "            new_values_1.append(dictionary[key_1][i])\n",
    "            new_values_2.append(dictionary[key_2][i])\n",
    "        elif dictionary[key_1][i] >= range_bottom and dictionary[key_1][i] <= range_top:\n",
    "            new_values_1.append(dictionary[key_1][i])\n",
    "            new_values_2.append(dictionary[key_2][i])\n",
    "    returned_dictionary[new_key_1] = new_values_1\n",
    "    returned_dictionary[new_key_2] = new_values_2\n",
    "    return returned_dictionary\n",
    "    \n",
    "def category_data_encapsulator(dictionary, key_1, key_2):\n",
    "    \"\"\"This function takes a dictionary and two of its keys. It then returns a dictionary where\n",
    "    the keys are the values of the first key provided, and the values are dictionaries where \n",
    "    the keys are four strings (total, mean, median and interquartile range), and the \n",
    "    values for each one are calculations of these operations among the values of the second key\n",
    "    that coincide in index with the values from the first keys, using for each one a different\n",
    "    function defined before. To work properly, this function needs other functions to be defined\n",
    "    before, and some of them require to import numpy as np.\"\"\"\n",
    "    category_dictionary = {}\n",
    "    for i in dictionary[key_1]: \n",
    "        category_dictionary[i] = {'Sample': dictionary[key_1].count(i),\n",
    "                                 'Percentage' : round(percentage_calculator(dictionary[key_1].count(i), population_lenght), 2),\n",
    "                                 'Total': round(sum_second_value(dictionary, key_1, i, key_2), 2),\n",
    "                                 'Mean': round(mean_second_value(dictionary, key_1, i, key_2), 2),\n",
    "                                 'Median': round(median_second_value(dictionary, key_1, i, key_2), 2),\n",
    "                                 'Interquartile range': round(interquartile_range_finder(dictionary, key_1, i, key_2), 2)}\n",
    "    return category_dictionary"
   ]
  },
  {
   "cell_type": "markdown",
   "metadata": {},
   "source": [
    "### 3.2. Storing data into variables for analysis"
   ]
  },
  {
   "cell_type": "code",
   "execution_count": 6,
   "metadata": {},
   "outputs": [],
   "source": [
    "# Person who pays the less and the most charges\n",
    "\n",
    "lowest_insurance_costs_person = lowest_value_index_sample(data_dict, 'charges')\n",
    "highest_insurance_costs_person = highest_value_index_sample(data_dict, 'charges')\n",
    "\n",
    "# Age\n",
    "\n",
    "clean_age_array = np.array(clean_age)\n",
    "age_total_mean = round(np.mean(clean_age_array))\n",
    "age_total_median = round(np.median(clean_age_array))\n",
    "\n",
    "age_dict = category_data_encapsulator(data_dict, 'age', 'charges')\n",
    "\n",
    "# Sex\n",
    "\n",
    "sex_dict = category_data_encapsulator(data_dict, 'sex', 'charges')\n",
    "\n",
    "# BMI\n",
    "\n",
    "bmi_mean = np.mean(clean_bmi)\n",
    "bmi_median = np.median(clean_bmi)\n",
    "\n",
    "underweight_bmi = fftl_inclusive_dt_arranger(clean_bmi, 0, 18.4)\n",
    "healthy_bmi = fftl_inclusive_dt_arranger(clean_bmi, 18.5, 24.9)\n",
    "overweight_bmi = fftl_inclusive_dt_arranger(clean_bmi, 25, 29.9)\n",
    "obese_bmi = fftl_inclusive_dt_arranger(clean_bmi, 30, 'inf')\n",
    "\n",
    "clean_bmi_x100 = [int(round((i * 100), 1)) for i in clean_bmi]\n",
    "data_dict['bmi x100'] = clean_bmi_x100\n",
    "\n",
    "bmi_under = fftl_inclusive_dt_arranger(clean_bmi_x100, 0, 1840)\n",
    "bmi_healthy = fftl_inclusive_dt_arranger(clean_bmi_x100, 1850, 2490)\n",
    "bmi_over = fftl_inclusive_dt_arranger(clean_bmi_x100, 2500, 2990)\n",
    "bmi_obese = fftl_inclusive_dt_arranger(clean_bmi_x100, 3000, 'inf')\n",
    "\n",
    "bmi_charges_underweight = dictionary_range_maker(data_dict, 'bmi x100', 'charges', 0, 1840, 'underweight', 'charges')\n",
    "bmi_charges_healthy = dictionary_range_maker(data_dict, 'bmi x100', 'charges', 1850, 2490, 'healthy', 'charges')\n",
    "bmi_charges_overweight = dictionary_range_maker(data_dict, 'bmi x100', 'charges', 2500, 2990, 'overweight', 'charges')\n",
    "bmi_charges_obese = dictionary_range_maker(data_dict, 'bmi x100', 'charges', 3000, 'inf', 'obese', 'charges')\n",
    "\n",
    "bmi_dict = {}\n",
    "\n",
    "bmi_dict['underweight'] = {}\n",
    "bmi_dict['underweight']['Sample'] = len(bmi_charges_underweight['underweight'])\n",
    "bmi_dict['underweight']['Percentage'] = round(((bmi_dict['underweight']['Sample']) * 100 / population_lenght), 2)\n",
    "bmi_dict['underweight']['Total'] = round((sum(bmi_charges_underweight['charges'])), 2)\n",
    "bmi_dict['underweight']['Mean'] = round((np.mean(np.array(bmi_charges_underweight['charges']))), 2)\n",
    "bmi_dict['underweight']['Median'] = round((np.median(np.array(bmi_charges_underweight['charges']))), 2)\n",
    "bmi_dict['underweight']['Interquartile range'] = round((np.percentile((np.array(bmi_charges_underweight['charges'])), 75) - np.percentile((np.array(bmi_charges_underweight['charges'])), 25)), 2)\n",
    "\n",
    "bmi_dict['healthy'] = {}\n",
    "bmi_dict['healthy']['Sample'] = len(bmi_charges_healthy['healthy'])\n",
    "bmi_dict['healthy']['Percentage'] = round(((bmi_dict['healthy']['Sample']) * 100 / population_lenght), 2)\n",
    "bmi_dict['healthy']['Total'] = round((sum(bmi_charges_healthy['charges'])), 2)\n",
    "bmi_dict['healthy']['Mean'] = round((np.mean(np.array(bmi_charges_healthy['charges']))), 2)\n",
    "bmi_dict['healthy']['Median'] = round((np.median(np.array(bmi_charges_healthy['charges']))), 2)\n",
    "bmi_dict['healthy']['Interquartile range'] = round((np.percentile((np.array(bmi_charges_healthy['charges'])), 75) - np.percentile((np.array(bmi_charges_healthy['charges'])), 25)), 2)\n",
    "\n",
    "bmi_dict['overweight'] = {}\n",
    "bmi_dict['overweight']['Sample'] = len(bmi_charges_overweight['overweight'])\n",
    "bmi_dict['overweight']['Percentage'] = round(((bmi_dict['overweight']['Sample']) * 100 / population_lenght), 2)\n",
    "bmi_dict['overweight']['Total'] = round((sum(bmi_charges_overweight['charges'])), 2)\n",
    "bmi_dict['overweight']['Mean'] = round((np.mean(np.array(bmi_charges_overweight['charges']))), 2)\n",
    "bmi_dict['overweight']['Median'] = round((np.median(np.array(bmi_charges_overweight['charges']))), 2)\n",
    "bmi_dict['overweight']['Interquartile range'] = round((np.percentile((np.array(bmi_charges_overweight['charges'])), 75) - np.percentile((np.array(bmi_charges_overweight['charges'])), 25)), 2)\n",
    "\n",
    "bmi_dict['obese'] = {}\n",
    "bmi_dict['obese']['Sample'] = len(bmi_charges_obese['obese'])\n",
    "bmi_dict['obese']['Percentage'] = round(((bmi_dict['obese']['Sample']) * 100 / population_lenght), 2)\n",
    "bmi_dict['obese']['Total'] = round((sum(bmi_charges_obese['charges'])), 2)\n",
    "bmi_dict['obese']['Mean'] = round((np.mean(np.array(bmi_charges_obese['charges']))), 2)\n",
    "bmi_dict['obese']['Median'] = round((np.median(np.array(bmi_charges_obese['charges']))), 2)\n",
    "bmi_dict['obese']['Interquartile range'] = round((np.percentile((np.array(bmi_charges_obese['charges'])), 75) - np.percentile((np.array(bmi_charges_obese['charges'])), 25)), 2)\n",
    "\n",
    "# Children\n",
    "\n",
    "children_dict = category_data_encapsulator(data_dict, 'children', 'charges')\n",
    "\n",
    "# Smoker\n",
    "\n",
    "smoker_dict = category_data_encapsulator(data_dict, 'smoker', 'charges')\n",
    "\n",
    "# Region\n",
    "\n",
    "region_dict = category_data_encapsulator(data_dict, 'region', 'charges')"
   ]
  },
  {
   "cell_type": "markdown",
   "metadata": {},
   "source": [
    "## 4. Outcomes"
   ]
  },
  {
   "cell_type": "code",
   "execution_count": 21,
   "metadata": {},
   "outputs": [
    {
     "name": "stdout",
     "output_type": "stream",
     "text": [
      "- The individual with the lowest medical insurance costs is:\n",
      "{'age': 18, 'sex': 'male', 'bmi': 23.2, 'children': 0, 'smoker': 'no', 'region': 'southeast', 'charges': 1121.87}\n",
      "\n",
      "- The individual with the Highest medical insurance costs is:\n",
      "{'age': 54, 'sex': 'female', 'bmi': 47.4, 'children': 0, 'smoker': 'yes', 'region': 'southeast', 'charges': 63770.43}\n",
      "\n",
      "- Age total mean:\n",
      "39\n",
      "\n",
      "- Age total median:\n",
      "39\n",
      "\n",
      "- Age dictionary:\n",
      "{19: {'Sample': 68, 'Percentage': 5.08, 'Total': 662857.84, 'Mean': 9747.91, 'Median': 2135.89, 'Interquartile range': 15509.42}, 18: {'Sample': 69, 'Percentage': 5.16, 'Total': 488949.04, 'Mean': 7086.22, 'Median': 2198.19, 'Interquartile range': 9639.29}, 28: {'Sample': 28, 'Percentage': 2.09, 'Total': 253937.25, 'Mean': 9069.19, 'Median': 4344.95, 'Interquartile range': 1900.99}, 33: {'Sample': 26, 'Percentage': 1.94, 'Total': 321139.84, 'Mean': 12351.53, 'Median': 6210.08, 'Interquartile range': 10701.57}, 32: {'Sample': 26, 'Percentage': 1.94, 'Total': 239727.79, 'Mean': 9220.3, 'Median': 4672.02, 'Interquartile range': 1901.57}, 31: {'Sample': 27, 'Percentage': 2.02, 'Total': 275318.45, 'Mean': 10196.98, 'Median': 4738.27, 'Interquartile range': 1582.14}, 46: {'Sample': 29, 'Percentage': 2.17, 'Total': 415935.13, 'Mean': 14342.59, 'Median': 8825.09, 'Interquartile range': 1166.11}, 37: {'Sample': 25, 'Percentage': 1.87, 'Total': 450497.79, 'Mean': 18019.91, 'Median': 6985.51, 'Interquartile range': 30956.39}, 60: {'Sample': 23, 'Percentage': 1.72, 'Total': 505526.63, 'Mean': 21979.42, 'Median': 13204.29, 'Interquartile range': 16944.92}, 25: {'Sample': 28, 'Percentage': 2.09, 'Total': 275474.22, 'Mean': 9838.36, 'Median': 3750.15, 'Interquartile range': 13172.9}, 62: {'Sample': 23, 'Percentage': 1.72, 'Total': 440768.69, 'Mean': 19163.86, 'Median': 13844.8, 'Interquartile range': 7852.04}, 23: {'Sample': 28, 'Percentage': 2.09, 'Total': 347754.96, 'Mean': 12419.82, 'Median': 3594.54, 'Interquartile range': 16712.24}, 56: {'Sample': 26, 'Percentage': 1.94, 'Total': 390663.44, 'Mean': 15025.52, 'Median': 11658.25, 'Interquartile range': 1495.86}, 27: {'Sample': 28, 'Percentage': 2.09, 'Total': 341171.64, 'Mean': 12184.7, 'Median': 4544.32, 'Interquartile range': 14755.23}, 52: {'Sample': 29, 'Percentage': 2.17, 'Total': 529431.83, 'Mean': 18256.27, 'Median': 11396.9, 'Interquartile range': 14676.38}, 30: {'Sample': 27, 'Percentage': 2.02, 'Total': 343416.0, 'Mean': 12719.11, 'Median': 4837.58, 'Interquartile range': 14670.45}, 34: {'Sample': 26, 'Percentage': 1.94, 'Total': 301951.73, 'Mean': 11613.53, 'Median': 5490.1, 'Interquartile range': 8784.08}, 59: {'Sample': 25, 'Percentage': 1.87, 'Total': 472396.74, 'Mean': 18895.87, 'Median': 12928.79, 'Interquartile range': 9463.17}, 63: {'Sample': 23, 'Percentage': 1.72, 'Total': 457354.97, 'Mean': 19885.0, 'Median': 14349.85, 'Interquartile range': 1475.05}, 55: {'Sample': 26, 'Percentage': 1.94, 'Total': 420278.17, 'Mean': 16164.54, 'Median': 11880.23, 'Interquartile range': 2113.89}, 22: {'Sample': 28, 'Percentage': 2.09, 'Total': 280362.12, 'Mean': 10012.93, 'Median': 2641.16, 'Interquartile range': 1922.78}, 26: {'Sample': 28, 'Percentage': 2.09, 'Total': 171747.12, 'Mean': 6133.83, 'Median': 3388.88, 'Interquartile range': 1062.15}, 35: {'Sample': 25, 'Percentage': 1.87, 'Total': 282679.58, 'Mean': 11307.18, 'Median': 5836.52, 'Interquartile range': 14134.01}, 24: {'Sample': 28, 'Percentage': 2.09, 'Total': 298144.44, 'Mean': 10648.02, 'Median': 3045.14, 'Interquartile range': 15045.59}, 41: {'Sample': 27, 'Percentage': 2.02, 'Total': 260651.12, 'Mean': 9653.75, 'Median': 6875.96, 'Interquartile range': 1130.08}, 38: {'Sample': 25, 'Percentage': 1.87, 'Total': 202568.31, 'Mean': 8102.73, 'Median': 6455.86, 'Interquartile range': 958.86}, 36: {'Sample': 25, 'Percentage': 1.87, 'Total': 305111.94, 'Mean': 12204.48, 'Median': 5478.04, 'Interquartile range': 1971.63}, 21: {'Sample': 28, 'Percentage': 2.09, 'Total': 132452.99, 'Mean': 4730.46, 'Median': 2254.42, 'Interquartile range': 1220.07}, 48: {'Sample': 29, 'Percentage': 2.17, 'Total': 424342.5, 'Mean': 14632.5, 'Median': 9447.38, 'Interquartile range': 12458.43}, 40: {'Sample': 27, 'Percentage': 2.02, 'Total': 317850.79, 'Mean': 11772.25, 'Median': 7077.19, 'Interquartile range': 5541.98}, 58: {'Sample': 25, 'Percentage': 1.87, 'Total': 346973.19, 'Mean': 13878.93, 'Median': 11931.13, 'Interquartile range': 487.68}, 53: {'Sample': 28, 'Percentage': 2.09, 'Total': 448586.05, 'Mean': 16020.93, 'Median': 11157.18, 'Interquartile range': 10358.01}, 43: {'Sample': 27, 'Percentage': 2.02, 'Total': 520216.55, 'Mean': 19267.28, 'Median': 18767.74, 'Interquartile range': 14595.34}, 64: {'Sample': 22, 'Percentage': 1.64, 'Total': 512061.68, 'Mean': 23275.53, 'Median': 15528.76, 'Interquartile range': 14359.06}, 20: {'Sample': 29, 'Percentage': 2.17, 'Total': 294631.24, 'Mean': 10159.7, 'Median': 2459.72, 'Interquartile range': 15118.25}, 61: {'Sample': 23, 'Percentage': 1.72, 'Total': 506562.52, 'Mean': 22024.46, 'Median': 13635.64, 'Interquartile range': 15868.54}, 44: {'Sample': 27, 'Percentage': 2.02, 'Total': 428203.72, 'Mean': 15859.4, 'Median': 8023.14, 'Interquartile range': 8571.94}, 57: {'Sample': 26, 'Percentage': 1.94, 'Total': 427626.84, 'Mean': 16447.19, 'Median': 11893.88, 'Interquartile range': 2562.11}, 29: {'Sample': 27, 'Percentage': 2.02, 'Total': 281614.31, 'Mean': 10430.16, 'Median': 4906.41, 'Interquartile range': 12452.74}, 45: {'Sample': 29, 'Percentage': 2.17, 'Total': 430075.78, 'Mean': 14830.2, 'Median': 8603.82, 'Interquartile range': 1853.58}, 54: {'Sample': 28, 'Percentage': 2.09, 'Total': 525239.3, 'Mean': 18758.55, 'Median': 11816.45, 'Interquartile range': 13971.36}, 49: {'Sample': 28, 'Percentage': 2.09, 'Total': 355488.17, 'Mean': 12696.01, 'Median': 9681.12, 'Interquartile range': 1396.74}, 47: {'Sample': 29, 'Percentage': 2.17, 'Total': 511965.99, 'Mean': 17654.0, 'Median': 9715.84, 'Interquartile range': 15984.35}, 51: {'Sample': 29, 'Percentage': 2.17, 'Total': 454785.4, 'Mean': 15682.26, 'Median': 9875.68, 'Interquartile range': 2050.58}, 42: {'Sample': 27, 'Percentage': 2.02, 'Total': 352648.04, 'Mean': 13061.04, 'Median': 7443.64, 'Interquartile range': 12694.04}, 50: {'Sample': 29, 'Percentage': 2.17, 'Total': 454227.09, 'Mean': 15663.0, 'Median': 10107.22, 'Interquartile range': 10690.65}, 39: {'Sample': 25, 'Percentage': 1.87, 'Total': 294456.08, 'Mean': 11778.24, 'Median': 7512.27, 'Interquartile range': 12685.18}}\n",
      "\n",
      "- Sex dictionary:\n",
      "{'female': {'Sample': 662, 'Percentage': 49.48, 'Total': 8321061.12, 'Mean': 12569.58, 'Median': 9412.96, 'Interquartile range': 9569.53}, 'male': {'Sample': 676, 'Percentage': 50.52, 'Total': 9434763.89, 'Mean': 13956.75, 'Median': 9369.62, 'Interquartile range': 14370.45}}\n",
      "\n",
      "- BMI dictionary:\n",
      "{'underweight': {'Sample': 20, 'Percentage': 1.49, 'Total': 177044.03, 'Mean': 8852.2, 'Median': 6759.26, 'Interquartile range': 10171.54}, 'healthy': {'Sample': 222, 'Percentage': 16.59, 'Total': 2304248.93, 'Mean': 10379.5, 'Median': 8604.15, 'Interquartile range': 11139.56}, 'overweight': {'Sample': 389, 'Percentage': 29.07, 'Total': 4279030.78, 'Mean': 11000.08, 'Median': 8615.3, 'Interquartile range': 10830.38}, 'obese': {'Sample': 707, 'Percentage': 52.84, 'Total': 10995501.27, 'Mean': 15552.34, 'Median': 9964.06, 'Interquartile range': 14873.51}}\n",
      "\n",
      "- Children dictionary:\n",
      "{0: {'Sample': 574, 'Percentage': 42.9, 'Total': 7098070.02, 'Mean': 12365.98, 'Median': 9856.95, 'Interquartile range': 11705.7}, 1: {'Sample': 324, 'Percentage': 24.22, 'Total': 4124899.63, 'Mean': 12731.17, 'Median': 8483.87, 'Interquartile range': 10840.4}, 3: {'Sample': 157, 'Percentage': 11.73, 'Total': 2410784.98, 'Mean': 15355.32, 'Median': 10600.55, 'Interquartile range': 12547.41}, 2: {'Sample': 240, 'Percentage': 17.94, 'Total': 3617655.32, 'Mean': 15073.56, 'Median': 9264.98, 'Interquartile range': 14094.34}, 5: {'Sample': 18, 'Percentage': 1.35, 'Total': 158148.64, 'Mean': 8786.04, 'Median': 8589.56, 'Interquartile range': 4144.97}, 4: {'Sample': 25, 'Percentage': 1.87, 'Total': 346266.42, 'Mean': 13850.66, 'Median': 11033.66, 'Interquartile range': 9616.16}}\n",
      "\n",
      "- Smoker dictionary:\n",
      "{'yes': {'Sample': 274, 'Percentage': 20.48, 'Total': 8781763.54, 'Mean': 32050.23, 'Median': 34456.35, 'Interquartile range': 20192.96}, 'no': {'Sample': 1064, 'Percentage': 79.52, 'Total': 8974061.47, 'Mean': 8434.27, 'Median': 7345.4, 'Interquartile range': 7376.44}}\n",
      "\n",
      "- Region dictionary:\n",
      "{'southwest': {'Sample': 325, 'Percentage': 24.29, 'Total': 4012754.69, 'Mean': 12346.94, 'Median': 8798.59, 'Interquartile range': 8711.45}, 'southeast': {'Sample': 364, 'Percentage': 27.2, 'Total': 5363689.78, 'Mean': 14735.41, 'Median': 9294.13, 'Interquartile range': 15085.4}, 'northwest': {'Sample': 325, 'Percentage': 24.29, 'Total': 4035711.93, 'Mean': 12417.58, 'Median': 8965.8, 'Interquartile range': 9992.0}, 'northeast': {'Sample': 324, 'Percentage': 24.22, 'Total': 4343668.61, 'Mean': 13406.38, 'Median': 10057.65, 'Interquartile range': 11493.04}}\n"
     ]
    }
   ],
   "source": [
    "# This cell is used to print the category dictionaries and other variables for data visualisation\n",
    "\n",
    "print(\"- The individual with the lowest medical insurance costs is:\")\n",
    "print(lowest_insurance_costs_person)\n",
    "print(\"\\n- The individual with the Highest medical insurance costs is:\")\n",
    "print(highest_insurance_costs_person)\n",
    "print(\"\\n- Age total mean:\")\n",
    "print(age_total_mean)\n",
    "print(\"\\n- Age total median:\")\n",
    "print(age_total_median)\n",
    "print(\"\\n- Age dictionary:\")\n",
    "print(age_dict)\n",
    "print(\"\\n- Sex dictionary:\")\n",
    "print(sex_dict)\n",
    "print(\"\\n- BMI dictionary:\")\n",
    "print(bmi_dict)\n",
    "print(\"\\n- Children dictionary:\")\n",
    "print(children_dict)\n",
    "print(\"\\n- Smoker dictionary:\")\n",
    "print(smoker_dict)\n",
    "print(\"\\n- Region dictionary:\")\n",
    "print(region_dict)"
   ]
  },
  {
   "cell_type": "markdown",
   "metadata": {},
   "source": [
    "## 5. Conclusions"
   ]
  },
  {
   "cell_type": "markdown",
   "metadata": {},
   "source": [
    "* The individual who pays the lower medical insurance costs is a 18 years old male person, with a BMI of 23.2 (that is inside the healthy range), who has no children, does not smoke and lives in the southeast region.\n",
    "* The individual who pays the higher medical insurance costs is a 54 years old female person, with a BMI of 47.4 (in the obese range, closer to the highest BMI found value in the data set, which is 53.1), who has no children, does smoke and lives in the southeast region.\n",
    "* The people who are in the data set have ages from 18 to 64 years old. The age mean and median match: 39 years old. The maximum percentage of people are 18 years old, more than double the rest of the ages percentages, so this data is slightly skewed. Taking a look to the mean and median, even though it cannot be perceived a proportional connection between age and charges, some of the top charges are the ones that have a mean higher than 20000 in charges. These would be 60, 61 and 64 years old people. On the other hand, the median does increase with age almost directly proportional. When looking at the interquartile range for each age, the values are quite heterogeneous.\n",
    "* In the sex category, the total charged for men is greater than for female, but there are more men than woman in the sample (676 men against 662 women). The mean and median values are very similar, but the interquartile range is significantly higher for men, so between this group the charges they pay are more spread.\n",
    "* The first look at the BMI category was shocking. Over the half of the sample are people with obesity (52.84%). Only 16.59% of the sample falls in the healthy range. This alone is worrisome data. On the other hand, underweight people in the data set are only 1.49%. People with overwehgt sum almost 30%. There is a connection bewteen bmi category and charges, as underweight are who pay the less, followed by healthy, overweight and obese people. Their mean and median values confirm that. However, looking at the interquartile range it seems that there is more variation in what obese people get charged for medical insurance costs than the other groups, whose interquartile range is very similar. \n",
    "* The sample is very spread for people with a different number of children. There is people in the data set with zero to five children. More than half of the data (67.12%) are people with zero or one children, and people with four and five children suppose a tiny percentage of the sample (1.87% and 1.35% respectively). The higher mean of charges is for the people with three children, and the lower for those who have five. Median and interquartile ranges show significant differentes between the groups inside children. The higher difference of what they pay comes to the people with three children, and the lower for the people with five. There is no direct connection between number of children and insurance costs, probably that's because of the other categories in the data set. \n",
    "* What about smokers? We can conclude that being a smoker really raise insurance costs. The sample provided of smokers and non-smokers is very different (274 vs 1064). Despite that, the total charges for both are the same. Looking at the mean we begin to find the first differences between the two groups, as smokers pay a mean of 32050.23, and not-smokers pay only 8434.27. Huge difference! Also, the median charge values both groups are noticeably distant: for smokers is 34456.35 and for non-smokers is 7345.4. The interquartile range for non-smokers is very similar to their median, 7376.44, but in the smoker group this extends to 20192.96. This is really something to look through!\n",
    "* Northwest and southwest inhabitants get charged similar insurance costs, and the samples from those areas in the data set are equal. On the other hand, the northeast sample is very similar to the aforementioned (only one less), but their insurance costs are greater, so this region is more expensive for medical insurance costs. There is another skewed data example here, as southeast people taken into consideration for this analysis are fourty more than people from the other regions. If we look at the mean, it seems that U.S. southeast inhabitants pay more for their insurance cost, followed by northeast, northwest and southwest people. This is skewed, because as it was mentioned before, the sample from southeast is significantly greater than from the other regions. In this category, the medians give as more accurate information. For southeast it is the second higher, surpassed by northeast, and followed by nothwest and southwest. Attending to the interquartile range, there is more difference in what southeast inhabitants get charged. The region were the costs are more similar is southwest."
   ]
  },
  {
   "cell_type": "markdown",
   "metadata": {},
   "source": [
    "## 6. References"
   ]
  },
  {
   "cell_type": "markdown",
   "metadata": {},
   "source": [
    "1. [What You Need to Know About Smoking and Health Insurance](https://www.healthmarkets.com/resources/health-insurance/smoking-and-health-insurance/) Retrieved Febrary 17, 2023\n",
    "2. [Is Obesity a Disease?](https://health.clevelandclinic.org/obesity-is-now-considered-a-disease/) Retrieved Febrary 15, 2023\n",
    "3. [What is the body mass index (BMI)?](https://www.nhs.uk/common-health-questions/lifestyle/what-is-the-body-mass-index-bmi/) Retrieved Febrary 15, 2023\n",
    "4. [How to Calculate Insurance Premiums](https://www.investopedia.com/ask/answers/09/calculating-premium.asp) Retrieved Febrary 17, 2023"
   ]
  }
 ],
 "metadata": {
  "kernelspec": {
   "display_name": "Python 3 (ipykernel)",
   "language": "python",
   "name": "python3"
  },
  "language_info": {
   "codemirror_mode": {
    "name": "ipython",
    "version": 3
   },
   "file_extension": ".py",
   "mimetype": "text/x-python",
   "name": "python",
   "nbconvert_exporter": "python",
   "pygments_lexer": "ipython3",
   "version": "3.11.9"
  }
 },
 "nbformat": 4,
 "nbformat_minor": 4
}
